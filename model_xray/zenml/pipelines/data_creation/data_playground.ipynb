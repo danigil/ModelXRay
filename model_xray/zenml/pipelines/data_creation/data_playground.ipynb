{
 "cells": [
  {
   "cell_type": "markdown",
   "metadata": {},
   "source": [
    "# Data Export for (https://github.com/albblgb/Deep-Steganalysis.git)"
   ]
  },
  {
   "cell_type": "code",
   "execution_count": 1,
   "metadata": {},
   "outputs": [
    {
     "name": "stdout",
     "output_type": "stream",
     "text": [
      "added path: /home/danielg/danigil/ModelXRay\n"
     ]
    },
    {
     "name": "stdout",
     "output_type": "stream",
     "text": [
      "\u001b[1;35mPyTorch version 2.4.0+cu118 available.\u001b[0m\n",
      "\u001b[1;35mTensorFlow version 2.14.0 available.\u001b[0m\n"
     ]
    }
   ],
   "source": [
    "import os\n",
    "import sys\n",
    "\n",
    "import shutil\n",
    "\n",
    "import numpy as np\n",
    "module_path = os.path.abspath(os.path.join('..', '..', '..', '..'))\n",
    "print('added path:', module_path)\n",
    "if module_path not in sys.path:\n",
    "    sys.path.append(module_path)\n",
    "\n",
    "from model_xray.zenml.pipelines.data_creation.dataset_compilation import retreive_datasets\n",
    "from model_xray.config_classes import *\n",
    "from PIL import Image\n",
    "\n",
    "x_train = 23\n",
    "\n",
    "trainset_names = [f'mobilenets_train_xs0{x_train}_imsize256']\n",
    "\n",
    "testset_names = [\n",
    "    'famous_le_100m_test_benigns_imsize256',\n",
    "] + [\n",
    "    f'famous_le_100m_test_xs{x_train}_imsize256'\n",
    "]\n",
    "\n",
    "requested_datasets = trainset_names + testset_names\n",
    "\n",
    "datasets = retreive_datasets(requested_datasets)\n",
    "\n",
    "def output_imgs(img_arrs, path, output_as_rgb=False):\n",
    "    os.makedirs(path, exist_ok=True)\n",
    "    for i, img_arr in enumerate(img_arrs):\n",
    "        img = Image.fromarray(img_arr)\n",
    "        if output_as_rgb:\n",
    "            img = img.convert('RGB')\n",
    "        img.save(f'{path}/{i+1}.png')\n",
    "\n",
    "def output_dataset(X,y, benign_path, mal_path, reset_dirs=False):\n",
    "    if reset_dirs:\n",
    "        if os.path.exists(benign_path):\n",
    "            shutil.rmtree(benign_path)\n",
    "        if os.path.exists(mal_path):\n",
    "            shutil.rmtree(mal_path)\n",
    "\n",
    "    os.makedirs(benign_path, exist_ok=True)\n",
    "    os.makedirs(mal_path, exist_ok=True)\n",
    "\n",
    "    X_benign = X[y == PreprocessedImageDatasetLabel.BENIGN]\n",
    "    output_imgs(X_benign, benign_path)\n",
    "    X_mal = X[y == PreprocessedImageDatasetLabel.ATTACKED]\n",
    "    output_imgs(X_mal, mal_path)\n",
    "\n",
    "def merge_datasets(datasets):\n",
    "    Xs = []\n",
    "    ys = []\n",
    "    for X,y in datasets:\n",
    "        Xs.append(X)\n",
    "        ys.append(y)\n",
    "    return np.vstack(Xs), np.hstack(ys)\n",
    "\n",
    "train_datasets = [datasets[name] for name in trainset_names]\n",
    "test_datasets = [datasets[name] for name in testset_names]\n",
    "X_train, y_train = merge_datasets(train_datasets)\n",
    "X_test, y_test = merge_datasets(test_datasets)\n",
    "\n",
    "def fill_deep_steganalysis_data_dirs(*, X_train, y_train, X_test, y_test, root_dir='', X_val=None, y_val=None):\n",
    "    train_path = f'{root_dir}/train_data_dir'\n",
    "    test_path = f'{root_dir}/test_data_dir'\n",
    "    val_path = f'{root_dir}/val_data_dir'\n",
    "\n",
    "    output_dataset(X_train, y_train, f'{train_path}/cover', f'{train_path}/stego', reset_dirs=True)\n",
    "    output_dataset(X_test, y_test, f'{test_path}/cover', f'{test_path}/stego', reset_dirs=True)\n",
    "    if X_val is None or y_val is None:\n",
    "        X_val, y_val = X_test, y_test\n",
    "    \n",
    "    output_dataset(X_val, y_val, f'{val_path}/cover', f'{val_path}/stego', reset_dirs=True)\n",
    "\n",
    "# root_dir = '/mnt/exdisk2/image_steganalysis/deep_steganalysis'\n",
    "fill_deep_steganalysis_data_dirs(X_train=X_train, y_train=y_train, X_test=X_test, y_test=y_test, root_dir='/mnt/exdisk2/image_steganalysis/deep_steganalysis')"
   ]
  }
 ],
 "metadata": {
  "kernelspec": {
   "display_name": "Python 3",
   "language": "python",
   "name": "python3"
  },
  "language_info": {
   "codemirror_mode": {
    "name": "ipython",
    "version": 3
   },
   "file_extension": ".py",
   "mimetype": "text/x-python",
   "name": "python",
   "nbconvert_exporter": "python",
   "pygments_lexer": "ipython3",
   "version": "3.11.9"
  }
 },
 "nbformat": 4,
 "nbformat_minor": 2
}
