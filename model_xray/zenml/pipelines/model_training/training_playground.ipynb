{
 "cells": [
  {
   "cell_type": "code",
   "execution_count": 5,
   "metadata": {},
   "outputs": [
    {
     "name": "stdout",
     "output_type": "stream",
     "text": [
      "added path: /home/danielg/danigil/ModelXRay\n"
     ]
    }
   ],
   "source": [
    "import os\n",
    "import sys\n",
    "module_path = os.path.abspath(os.path.join('..', '..', '..', '..'))\n",
    "print('added path:', module_path)\n",
    "if module_path not in sys.path:\n",
    "    sys.path.append(module_path)\n",
    "\n",
    "from model_xray.zenml.pipelines.data_creation.dataset_compilation import retreive_datasets\n",
    "\n",
    "def img_flatten(arr):\n",
    "    return arr.reshape(arr.shape[0], -1)"
   ]
  },
  {
   "cell_type": "code",
   "execution_count": 1,
   "metadata": {},
   "outputs": [
    {
     "name": "stdout",
     "output_type": "stream",
     "text": [
      "added path: /home/danielg/danigil/ModelXRay\n"
     ]
    },
    {
     "name": "stdout",
     "output_type": "stream",
     "text": [
      "\u001b[1;35mPyTorch version 2.4.0+cu118 available.\u001b[0m\n",
      "\u001b[1;35mTensorFlow version 2.14.0 available.\u001b[0m\n"
     ]
    }
   ],
   "source": [
    "x_train = 20\n",
    "trainset_name = f'mobilenets_train_xs0{x_train}_imsize256'\n",
    "\n",
    "ret = retreive_datasets(\n",
    "    dataset_names=[trainset_name, 'famous_le_100m_test_benigns_imsize256'] +  [f'famous_le_100m_test_xs{i}_imsize256' for i in range(8, 24)]\n",
    ")\n",
    "\n",
    "X_train, y_train = ret[trainset_name]\n",
    "\n",
    "X_test_benigns, y_test_benigns = ret['famous_le_100m_test_benigns_imsize256']\n",
    "X_test_xs23, y_test_xs23 = ret['famous_le_100m_test_xs23_imsize256']"
   ]
  },
  {
   "cell_type": "code",
   "execution_count": 2,
   "metadata": {},
   "outputs": [
    {
     "name": "stdout",
     "output_type": "stream",
     "text": [
      "X_train: (8, 100, 100)\n",
      "y_train: (8,)\n"
     ]
    }
   ],
   "source": [
    "print('X_train:', X_train.shape)\n",
    "print('y_train:', y_train.shape)"
   ]
  },
  {
   "cell_type": "code",
   "execution_count": 2,
   "metadata": {},
   "outputs": [],
   "source": [
    "X_train_reshaped = img_flatten(X_train)\n",
    "X_test_benigns_reshaped = img_flatten(X_test_benigns)\n",
    "# X_test_xs23_reshaped = img_flatten(X_test_xs23)"
   ]
  },
  {
   "cell_type": "code",
   "execution_count": 4,
   "metadata": {},
   "outputs": [
    {
     "name": "stdout",
     "output_type": "stream",
     "text": [
      "benign train: 1.0\n",
      "train: 1.0\n",
      "benign test: 0.25\n",
      "xs8 test: 0.625\n",
      "xs9 test: 0.5\n",
      "xs10 test: 0.625\n",
      "xs11 test: 0.5\n",
      "xs12 test: 0.4375\n",
      "xs13 test: 0.5\n",
      "xs14 test: 0.5625\n",
      "xs15 test: 0.625\n",
      "xs16 test: 0.625\n",
      "xs17 test: 0.8125\n",
      "xs18 test: 0.75\n",
      "xs19 test: 0.8125\n",
      "xs20 test: 0.75\n",
      "xs21 test: 0.875\n",
      "xs22 test: 1.0\n",
      "xs23 test: 1.0\n"
     ]
    }
   ],
   "source": [
    "import numpy as np\n",
    "from sklearn.ensemble import RandomForestClassifier\n",
    "from sklearn.neighbors import KNeighborsClassifier\n",
    "\n",
    "# clf = RandomForestClassifier(n_estimators=100, max_depth=2, random_state=0)\n",
    "\n",
    "clf = KNeighborsClassifier(n_neighbors=1, weights='distance',)\n",
    "clf.fit(X_train_reshaped, y_train)\n",
    "\n",
    "train_benign_idxs = np.where(y_train == 0)[0]\n",
    "\n",
    "X_train_benign = X_train_reshaped[train_benign_idxs]\n",
    "y_train_benign = y_train[train_benign_idxs]\n",
    "\n",
    "\n",
    "print(\"benign train:\", clf.score(X_train_benign, y_train_benign))\n",
    "print(\"train:\", clf.score(X_train_reshaped, y_train))\n",
    "\n",
    "print(\"benign test:\", clf.score(X_test_benigns_reshaped, y_test_benigns))\n",
    "for i in range(8, 24):\n",
    "    X_test, y_test = ret[f'famous_le_100m_test_xs{i}_imsize256']\n",
    "    X_test_reshaped = img_flatten(X_test)\n",
    "    print(f\"xs{i} test:\", clf.score(X_test_reshaped, y_test))\n",
    "# print(\"xs23 test:\", rf.score(X_test_xs23_reshaped, y_test_xs23))"
   ]
  },
  {
   "cell_type": "markdown",
   "metadata": {},
   "source": [
    "# All CNNs, All Attacks"
   ]
  },
  {
   "cell_type": "code",
   "execution_count": 6,
   "metadata": {},
   "outputs": [],
   "source": [
    "dataset_name = f\"allcnns_allattacks_train_imsize256\"\n",
    "\n",
    "ret = retreive_datasets(\n",
    "    dataset_names=[dataset_name]\n",
    ")\n",
    "\n",
    "X,y = ret[dataset_name]"
   ]
  },
  {
   "cell_type": "code",
   "execution_count": 8,
   "metadata": {},
   "outputs": [
    {
     "name": "stdout",
     "output_type": "stream",
     "text": [
      "(array([0, 1]), array([ 24, 552]))\n"
     ]
    },
    {
     "data": {
      "text/plain": [
       "(576, 256, 256)"
      ]
     },
     "execution_count": 8,
     "metadata": {},
     "output_type": "execute_result"
    }
   ],
   "source": [
    "print(np.unique(y, return_counts=True))\n",
    "X.shape"
   ]
  },
  {
   "cell_type": "code",
   "execution_count": 14,
   "metadata": {},
   "outputs": [],
   "source": [
    "X = img_flatten(X)\n",
    "from sklearn.model_selection import train_test_split\n",
    "X_train, X_test, y_train, y_test = train_test_split(X, y, test_size=0.8, random_state=42, stratify=y)"
   ]
  },
  {
   "cell_type": "code",
   "execution_count": 29,
   "metadata": {},
   "outputs": [],
   "source": [
    "X_train = X[y == 0]\n",
    "y_train = y[y == 0]\n",
    "X_test = X[y == 1]\n",
    "y_test = y[y == 1]"
   ]
  },
  {
   "cell_type": "code",
   "execution_count": 30,
   "metadata": {},
   "outputs": [
    {
     "data": {
      "text/plain": [
       "(24, 65536)"
      ]
     },
     "execution_count": 30,
     "metadata": {},
     "output_type": "execute_result"
    }
   ],
   "source": [
    "X_train.shape"
   ]
  },
  {
   "cell_type": "code",
   "execution_count": 31,
   "metadata": {},
   "outputs": [
    {
     "data": {
      "text/plain": [
       "array([0, 0, 0, 0, 0, 0, 0, 0, 0, 0, 0, 0, 0, 0, 0, 0, 0, 0, 0, 0, 0, 0,\n",
       "       0, 0])"
      ]
     },
     "execution_count": 31,
     "metadata": {},
     "output_type": "execute_result"
    }
   ],
   "source": [
    "y_train"
   ]
  },
  {
   "cell_type": "code",
   "execution_count": 45,
   "metadata": {},
   "outputs": [
    {
     "name": "stdout",
     "output_type": "stream",
     "text": [
      "train: \n",
      "              precision    recall  f1-score   support\n",
      "\n",
      "           0       1.00      0.92      0.96        24\n",
      "           1       0.00      0.00      0.00         0\n",
      "\n",
      "    accuracy                           0.92        24\n",
      "   macro avg       0.50      0.46      0.48        24\n",
      "weighted avg       1.00      0.92      0.96        24\n",
      "\n"
     ]
    },
    {
     "name": "stderr",
     "output_type": "stream",
     "text": [
      "/home/danielg/micromamba/envs/zenml/lib/python3.11/site-packages/sklearn/metrics/_classification.py:1531: UndefinedMetricWarning: Recall is ill-defined and being set to 0.0 in labels with no true samples. Use `zero_division` parameter to control this behavior.\n",
      "  _warn_prf(average, modifier, f\"{metric.capitalize()} is\", len(result))\n",
      "/home/danielg/micromamba/envs/zenml/lib/python3.11/site-packages/sklearn/metrics/_classification.py:1531: UndefinedMetricWarning: Recall is ill-defined and being set to 0.0 in labels with no true samples. Use `zero_division` parameter to control this behavior.\n",
      "  _warn_prf(average, modifier, f\"{metric.capitalize()} is\", len(result))\n",
      "/home/danielg/micromamba/envs/zenml/lib/python3.11/site-packages/sklearn/metrics/_classification.py:1531: UndefinedMetricWarning: Recall is ill-defined and being set to 0.0 in labels with no true samples. Use `zero_division` parameter to control this behavior.\n",
      "  _warn_prf(average, modifier, f\"{metric.capitalize()} is\", len(result))\n"
     ]
    }
   ],
   "source": [
    "import numpy as np\n",
    "from sklearn.ensemble import RandomForestClassifier, IsolationForest\n",
    "from sklearn.neighbors import KNeighborsClassifier, LocalOutlierFactor\n",
    "\n",
    "from sklearn.metrics import classification_report\n",
    "from sklearn.svm import OneClassSVM\n",
    "\n",
    "# clf = KNeighborsClassifier(n_neighbors=11, weights='distance',)\n",
    "# clf = RandomForestClassifier(n_estimators=100, max_depth=2, random_state=0)\n",
    "\n",
    "# X_train_benign = X_train[y_train == 0]\n",
    "\n",
    "# clf = IsolationForest(max_samples=100)\n",
    "# clf = OneClassSVM()\n",
    "clf = LocalOutlierFactor(n_neighbors=7, novelty=True,)\n",
    "clf.fit(X_train,)\n",
    "\n",
    "def map_outliers(y):\n",
    "    return [0 if i == 1 else 1 for i in y]\n",
    "\n",
    "y_pred_train = map_outliers(clf.predict(X_train))\n",
    "\n",
    "print(\"train: \")\n",
    "print(classification_report(y_train, y_pred_train))"
   ]
  },
  {
   "cell_type": "code",
   "execution_count": 46,
   "metadata": {},
   "outputs": [
    {
     "name": "stdout",
     "output_type": "stream",
     "text": [
      "test: \n",
      "              precision    recall  f1-score   support\n",
      "\n",
      "           0       0.00      0.00      0.00         0\n",
      "           1       1.00      0.08      0.15       552\n",
      "\n",
      "    accuracy                           0.08       552\n",
      "   macro avg       0.50      0.04      0.07       552\n",
      "weighted avg       1.00      0.08      0.15       552\n",
      "\n"
     ]
    },
    {
     "name": "stderr",
     "output_type": "stream",
     "text": [
      "/home/danielg/micromamba/envs/zenml/lib/python3.11/site-packages/sklearn/metrics/_classification.py:1531: UndefinedMetricWarning: Recall is ill-defined and being set to 0.0 in labels with no true samples. Use `zero_division` parameter to control this behavior.\n",
      "  _warn_prf(average, modifier, f\"{metric.capitalize()} is\", len(result))\n",
      "/home/danielg/micromamba/envs/zenml/lib/python3.11/site-packages/sklearn/metrics/_classification.py:1531: UndefinedMetricWarning: Recall is ill-defined and being set to 0.0 in labels with no true samples. Use `zero_division` parameter to control this behavior.\n",
      "  _warn_prf(average, modifier, f\"{metric.capitalize()} is\", len(result))\n",
      "/home/danielg/micromamba/envs/zenml/lib/python3.11/site-packages/sklearn/metrics/_classification.py:1531: UndefinedMetricWarning: Recall is ill-defined and being set to 0.0 in labels with no true samples. Use `zero_division` parameter to control this behavior.\n",
      "  _warn_prf(average, modifier, f\"{metric.capitalize()} is\", len(result))\n"
     ]
    }
   ],
   "source": [
    "y_pred_test = map_outliers(clf.predict(X_test))\n",
    "\n",
    "print(\"test: \")\n",
    "print(classification_report(y_test, y_pred_test))"
   ]
  }
 ],
 "metadata": {
  "kernelspec": {
   "display_name": "Python 3",
   "language": "python",
   "name": "python3"
  },
  "language_info": {
   "codemirror_mode": {
    "name": "ipython",
    "version": 3
   },
   "file_extension": ".py",
   "mimetype": "text/x-python",
   "name": "python",
   "nbconvert_exporter": "python",
   "pygments_lexer": "ipython3",
   "version": "3.11.9"
  }
 },
 "nbformat": 4,
 "nbformat_minor": 2
}
