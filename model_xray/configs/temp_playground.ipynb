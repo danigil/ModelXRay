{
 "cells": [
  {
   "cell_type": "code",
   "execution_count": 2,
   "metadata": {},
   "outputs": [
    {
     "name": "stderr",
     "output_type": "stream",
     "text": [
      "2024-09-06 13:05:16.780273: I tensorflow/core/util/port.cc:111] oneDNN custom operations are on. You may see slightly different numerical results due to floating-point round-off errors from different computation orders. To turn them off, set the environment variable `TF_ENABLE_ONEDNN_OPTS=0`.\n",
      "2024-09-06 13:05:16.803214: E tensorflow/compiler/xla/stream_executor/cuda/cuda_dnn.cc:9342] Unable to register cuDNN factory: Attempting to register factory for plugin cuDNN when one has already been registered\n",
      "2024-09-06 13:05:16.803235: E tensorflow/compiler/xla/stream_executor/cuda/cuda_fft.cc:609] Unable to register cuFFT factory: Attempting to register factory for plugin cuFFT when one has already been registered\n",
      "2024-09-06 13:05:16.803249: E tensorflow/compiler/xla/stream_executor/cuda/cuda_blas.cc:1518] Unable to register cuBLAS factory: Attempting to register factory for plugin cuBLAS when one has already been registered\n",
      "2024-09-06 13:05:16.807735: I tensorflow/core/platform/cpu_feature_guard.cc:182] This TensorFlow binary is optimized to use available CPU instructions in performance-critical operations.\n",
      "To enable the following instructions: AVX2 AVX512F AVX512_VNNI FMA, in other operations, rebuild TensorFlow with the appropriate compiler flags.\n",
      "2024-09-06 13:05:17.331790: W tensorflow/compiler/tf2tensorrt/utils/py_utils.cc:38] TF-TRT Warning: Could not find TensorRT\n"
     ]
    }
   ],
   "source": [
    "from models import *\n",
    "from enums import *"
   ]
  },
  {
   "cell_type": "code",
   "execution_count": 2,
   "metadata": {},
   "outputs": [],
   "source": [
    "pp_il = PreprocessedImageLineage.ret_ppil_from_pretrained_model(\n",
    "    pretrained_model_config=PretrainedModelConfig(),\n",
    "    image_rep_config=ImageRepConfig(),\n",
    "    image_preprocess_config=ImagePreprocessConfig(),\n",
    ")"
   ]
  },
  {
   "cell_type": "code",
   "execution_count": 4,
   "metadata": {},
   "outputs": [
    {
     "data": {
      "text/plain": [
       "{'cover_data_config': {'cover_data_cfg': {'cover_data_type': <CoverDataTypes.PRETRAINED_MODEL: 'pretrained_model'>,\n",
       "   'name': 'MobileNet',\n",
       "   'repo': <ModelRepos.KERAS: 'keras'>,\n",
       "   'train_dataset': 'imagenet12'}},\n",
       " 'image_rep_config': {'image_rep_proc_config': {'image_rep_type': <ImageType.GRAYSCALE_FOURPART: 'grayscale_fourpart'>}},\n",
       " 'image_preprocess_config': {'image_height': 100,\n",
       "  'image_width': 100,\n",
       "  'image_reshape_algo': <ImageResamplingFilter.BICUBIC: 'bicubic'>},\n",
       " 'embed_payload_config': 'NA',\n",
       " 'label': <PreprocessedImageDatasetLabel.BENIGN: 0>}"
      ]
     },
     "execution_count": 4,
     "metadata": {},
     "output_type": "execute_result"
    }
   ],
   "source": [
    "pp_il.model_dump()"
   ]
  },
  {
   "cell_type": "code",
   "execution_count": 3,
   "metadata": {},
   "outputs": [
    {
     "data": {
      "text/plain": [
       "\"cover_data_type=<CoverDataTypes.PRETRAINED_MODEL: 'pretrained_model'> name='MobileNet' repo=<ModelRepos.KERAS: 'keras'> train_dataset='imagenet12'\""
      ]
     },
     "execution_count": 3,
     "metadata": {},
     "output_type": "execute_result"
    }
   ],
   "source": [
    "ptm_cfg = PretrainedModelConfig()\n",
    "str(ptm_cfg)"
   ]
  },
  {
   "cell_type": "code",
   "execution_count": 5,
   "metadata": {},
   "outputs": [
    {
     "data": {
      "text/plain": [
       "'{\"cover_data_type\":\"pretrained_model\",\"name\":\"MobileNet\",\"repo\":\"keras\",\"train_dataset\":\"imagenet12\"}'"
      ]
     },
     "execution_count": 5,
     "metadata": {},
     "output_type": "execute_result"
    }
   ],
   "source": [
    "ptm_cfg.model_dump_json()"
   ]
  },
  {
   "cell_type": "code",
   "execution_count": null,
   "metadata": {},
   "outputs": [],
   "source": []
  }
 ],
 "metadata": {
  "kernelspec": {
   "display_name": "Python 3",
   "language": "python",
   "name": "python3"
  },
  "language_info": {
   "codemirror_mode": {
    "name": "ipython",
    "version": 3
   },
   "file_extension": ".py",
   "mimetype": "text/x-python",
   "name": "python",
   "nbconvert_exporter": "python",
   "pygments_lexer": "ipython3",
   "version": "3.11.9"
  }
 },
 "nbformat": 4,
 "nbformat_minor": 2
}
