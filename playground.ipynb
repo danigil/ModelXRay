{
 "cells": [
  {
   "cell_type": "code",
   "execution_count": 1,
   "metadata": {},
   "outputs": [
    {
     "name": "stdout",
     "output_type": "stream",
     "text": [
      "DenseNet121\n",
      "float32 (1, 8062504)\n",
      "EfficientNetV2B0\n",
      "float32 (1, 7200312)\n",
      "EfficientNetV2B1\n",
      "float32 (1, 8212124)\n",
      "MobileNet\n",
      "float32 (1, 4253864)\n",
      "MobileNetV2\n",
      "float32 (1, 3538984)\n",
      "MobileNetV3Large\n",
      "float32 (1, 5507432)\n",
      "MobileNetV3Small\n",
      "float32 (1, 2554968)\n",
      "NASNetMobile\n",
      "float32 (1, 5326716)\n"
     ]
    }
   ],
   "source": [
    "import h5py\n",
    "from model_xray.config import *\n",
    "from model_xray.path_manager import pm\n",
    "\n",
    "with h5py.File(pm.get_mcwa_path('famous_le_10m'), 'r') as f:\n",
    "    for mz_name in f:\n",
    "        print(mz_name)\n",
    "        mz = f[mz_name]\n",
    "        print(mz.dtype, mz.shape)"
   ]
  }
 ],
 "metadata": {
  "kernelspec": {
   "display_name": "Python 3",
   "language": "python",
   "name": "python3"
  },
  "language_info": {
   "codemirror_mode": {
    "name": "ipython",
    "version": 3
   },
   "file_extension": ".py",
   "mimetype": "text/x-python",
   "name": "python",
   "nbconvert_exporter": "python",
   "pygments_lexer": "ipython3",
   "version": "3.9.18"
  }
 },
 "nbformat": 4,
 "nbformat_minor": 2
}
