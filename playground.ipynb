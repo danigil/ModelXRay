{
 "cells": [
  {
   "cell_type": "code",
   "execution_count": 1,
   "metadata": {},
   "outputs": [
    {
     "name": "stdout",
     "output_type": "stream",
     "text": [
      "DenseNet121\n",
      "float32 (1, 8062504)\n",
      "EfficientNetV2B0\n",
      "float32 (1, 7200312)\n",
      "EfficientNetV2B1\n",
      "float32 (1, 8212124)\n",
      "MobileNet\n",
      "float32 (1, 4253864)\n",
      "MobileNetV2\n",
      "float32 (1, 3538984)\n",
      "MobileNetV3Large\n",
      "float32 (1, 5507432)\n",
      "MobileNetV3Small\n",
      "float32 (1, 2554968)\n",
      "NASNetMobile\n",
      "float32 (1, 5326716)\n"
     ]
    }
   ],
   "source": [
    "import h5py\n",
    "from model_xray.config import *\n",
    "from model_xray.path_manager import pm\n",
    "\n",
    "with h5py.File(pm.get_mcwa_path('famous_le_10m'), 'r') as f:\n",
    "    for mz_name in f:\n",
    "        print(mz_name)\n",
    "        mz = f[mz_name]\n",
    "        print(mz.dtype, mz.shape)"
   ]
  },
  {
   "cell_type": "code",
   "execution_count": 1,
   "metadata": {},
   "outputs": [
    {
     "name": "stdout",
     "output_type": "stream",
     "text": [
      "capacity: 80, n_b: 8\n",
      "payload bits: 00000000000000010000001000000011000001000000010100000110000001110001010000001110, len(bits): 80\n",
      "dupe_amount: 1\n",
      "len(bits): 80\n",
      "reshaped: Array('bin8', ['00000000', '00000001', '00000010', '00000011', '00000100', '00000101', '00000110', '00000111', '00010100', '00001110']), remainder: \n",
      "[0 0 0 0 0 0 0 0 0 0]\n",
      "[ 0  1  2  3  4  5  6  7 20 14]\n"
     ]
    }
   ],
   "source": [
    "from model_xray.config_classes import XLSBAttackConfig, PayloadType\n",
    "from model_xray.utils.mal_embedding_utils import x_lsb_attack\n",
    "\n",
    "import numpy as np\n",
    "\n",
    "arr = np.zeros((10, ), dtype=np.uint8)\n",
    "\n",
    "payload = np.array([0, 1, 2, 3, 4, 5, 6, 7, 20, 14], dtype=np.uint8)\n",
    "\n",
    "config = XLSBAttackConfig(\n",
    "    x = 8,\n",
    "    fill=True,\n",
    "    payload_type=PayloadType.PYTHON_BYTES,\n",
    "    payload_bytes=payload.tobytes()\n",
    ")\n",
    "\n",
    "arr_attacked = x_lsb_attack(arr, config)\n",
    "print(arr)\n",
    "print(arr_attacked)"
   ]
  },
  {
   "cell_type": "code",
   "execution_count": null,
   "metadata": {},
   "outputs": [],
   "source": []
  }
 ],
 "metadata": {
  "kernelspec": {
   "display_name": "Python 3",
   "language": "python",
   "name": "python3"
  },
  "language_info": {
   "codemirror_mode": {
    "name": "ipython",
    "version": 3
   },
   "file_extension": ".py",
   "mimetype": "text/x-python",
   "name": "python",
   "nbconvert_exporter": "python",
   "pygments_lexer": "ipython3",
   "version": "3.11.9"
  }
 },
 "nbformat": 4,
 "nbformat_minor": 2
}
