{
 "cells": [
  {
   "cell_type": "code",
   "execution_count": 1,
   "metadata": {},
   "outputs": [
    {
     "name": "stdout",
     "output_type": "stream",
     "text": [
      "DenseNet121\n",
      "float32 (1, 8062504)\n",
      "EfficientNetV2B0\n",
      "float32 (1, 7200312)\n",
      "EfficientNetV2B1\n",
      "float32 (1, 8212124)\n",
      "MobileNet\n",
      "float32 (1, 4253864)\n",
      "MobileNetV2\n",
      "float32 (1, 3538984)\n",
      "MobileNetV3Large\n",
      "float32 (1, 5507432)\n",
      "MobileNetV3Small\n",
      "float32 (1, 2554968)\n",
      "NASNetMobile\n",
      "float32 (1, 5326716)\n"
     ]
    }
   ],
   "source": [
    "import h5py\n",
    "from model_xray.config import *\n",
    "from model_xray.path_manager import pm\n",
    "\n",
    "with h5py.File(pm.get_mcwa_path('famous_le_10m'), 'r') as f:\n",
    "    for mz_name in f:\n",
    "        print(mz_name)\n",
    "        mz = f[mz_name]\n",
    "        print(mz.dtype, mz.shape)"
   ]
  },
  {
   "cell_type": "code",
   "execution_count": 3,
   "metadata": {},
   "outputs": [
    {
     "name": "stdout",
     "output_type": "stream",
     "text": [
      "capacity: 30, n_b: 8\n",
      "payload bits: 00000000000000010000001000000011000001000000010100000110000001110001010000001110, len(bits): 80\n",
      "dupe_amount: 1\n",
      "len(bits): 80\n",
      "reshaped: Array('bin3', ['000', '000', '000', '000', '000', '100', '000', '010', '000', '000']), remainder: Array('bin50', ['11000001000000010100000110000001110001010000001110'])\n",
      "[0 0 0 0 0 0 0 0 0 0]\n",
      "[0 0 0 0 0 4 0 2 0 0]\n",
      "capacity: 30, n_b: 8\n",
      "bits: Array('bin3', ['000', '000', '000', '000', '000', '100', '000', '010', '000', '000'])\n",
      "[ 0  1  2  3  4  5  6  7 20 14]\n",
      "[0 1 2 0]\n"
     ]
    },
    {
     "ename": "AssertionError",
     "evalue": "",
     "output_type": "error",
     "traceback": [
      "\u001b[0;31m---------------------------------------------------------------------------\u001b[0m",
      "\u001b[0;31mAssertionError\u001b[0m                            Traceback (most recent call last)",
      "Cell \u001b[0;32mIn[3], line 30\u001b[0m\n\u001b[1;32m     27\u001b[0m \u001b[38;5;28mprint\u001b[39m(payload_bytes_as_array)\n\u001b[1;32m     28\u001b[0m \u001b[38;5;28mprint\u001b[39m(extracted_bytes_as_array)\n\u001b[0;32m---> 30\u001b[0m \u001b[38;5;28;01massert\u001b[39;00m extracted_bytes \u001b[38;5;241m==\u001b[39m payload_bytes\n",
      "\u001b[0;31mAssertionError\u001b[0m: "
     ]
    }
   ],
   "source": [
    "from model_xray.config_classes import XLSBAttackConfig, PayloadType\n",
    "from model_xray.utils.mal_embedding_utils import x_lsb_attack, x_lsb_extract\n",
    "\n",
    "import numpy as np\n",
    "\n",
    "arr = np.zeros((10, ), dtype=np.uint8)\n",
    "\n",
    "payload = np.array([0, 1, 2, 3, 4, 5, 6, 7, 20, 14], dtype=np.uint8)\n",
    "payload_bytes = payload.tobytes()\n",
    "\n",
    "config = XLSBAttackConfig(\n",
    "    x = 3,\n",
    "    fill=True,\n",
    "    payload_type=PayloadType.PYTHON_BYTES,\n",
    "    payload_bytes=payload_bytes\n",
    ")\n",
    "\n",
    "arr_attacked = x_lsb_attack(arr, config)\n",
    "print(arr)\n",
    "print(arr_attacked)\n",
    "\n",
    "extracted_bytes = x_lsb_extract(arr_attacked, config)\n",
    "\n",
    "payload_bytes_as_array = np.frombuffer(payload_bytes, dtype=np.uint8)\n",
    "extracted_bytes_as_array = np.frombuffer(extracted_bytes, dtype=np.uint8)\n",
    "\n",
    "print(payload_bytes_as_array)\n",
    "print(extracted_bytes_as_array)\n",
    "\n",
    "assert extracted_bytes == payload_bytes"
   ]
  },
  {
   "cell_type": "code",
   "execution_count": 1,
   "metadata": {},
   "outputs": [
    {
     "name": "stdout",
     "output_type": "stream",
     "text": [
      "Tests passed: 990\n"
     ]
    }
   ],
   "source": [
    "import math\n",
    "import numpy as np\n",
    "from bitstring import Dtype\n",
    "import itertools\n",
    "import os\n",
    "\n",
    "import traceback\n",
    "\n",
    "\n",
    "from model_xray.config_classes import XLSBAttackConfig, PayloadType\n",
    "from model_xray.utils.mal_embedding_utils import _x_lsb_attack_numpy, _x_lsb_attack_bitstring, _x_lsb_attack_numpy_bin, x_lsb_extract, mcwa_to_bytes_arr, bytes_arr_to_mcwa\n",
    "\n",
    "def check_attack(arr, config, attack_func):\n",
    "    x = config.x\n",
    "\n",
    "    config.msb = False\n",
    "    arr_attacked = attack_func(arr, config)\n",
    "\n",
    "    config.msb = True\n",
    "\n",
    "    n_b = arr.dtype.itemsize * 8\n",
    "    unattacked_bits_amnt = n_b - x\n",
    "\n",
    "    config.x = unattacked_bits_amnt\n",
    "\n",
    "    unattacked_bytes_orig = x_lsb_extract(arr, config)\n",
    "    unattacked_bytes_attacked = x_lsb_extract(arr_attacked, config)\n",
    "\n",
    "    if not unattacked_bytes_orig == unattacked_bytes_attacked:\n",
    "        print(\"orig:\", mcwa_to_bytes_arr(arr))\n",
    "        print(\"attacked:\", mcwa_to_bytes_arr(arr_attacked))\n",
    "\n",
    "        print(\"extracted orig:\", np.frombuffer(unattacked_bytes_orig, dtype=np.uint8))\n",
    "        print(\"extracted attacked:\", np.frombuffer(unattacked_bytes_attacked, dtype=np.uint8))\n",
    "\n",
    "    assert unattacked_bytes_orig == unattacked_bytes_attacked\n",
    "\n",
    "    config.msb = False\n",
    "    config.x = x\n",
    "    extracted_bytes = x_lsb_extract(arr_attacked, config)\n",
    "\n",
    "    assert extracted_bytes == config.payload_bytes\n",
    "\n",
    "    return arr_attacked\n",
    "\n",
    "rng = np.random.default_rng()\n",
    "\n",
    "dtypes = [np.uint16, np.uint32, np.uint64, np.float32, np.float64]\n",
    "\n",
    "n_ws = [8, 16, 32, 64, 1_000_000]\n",
    "\n",
    "config = XLSBAttackConfig(\n",
    "    x = 3,\n",
    "    fill=True,\n",
    "    payload_type=PayloadType.PYTHON_BYTES,\n",
    "    payload_bytes=None\n",
    ")\n",
    "\n",
    "tests_c = 0\n",
    "try:\n",
    "    for dtype, n_w in itertools.product(dtypes, n_ws):\n",
    "        dtype_str = dtype.__name__\n",
    "        # print(dtype_str)\n",
    "        n_bits = Dtype(dtype_str).length\n",
    "        # print(n_bits)\n",
    "\n",
    "        for x in range(1, n_bits-1):\n",
    "        # for x in [4, 6, 8,]:\n",
    "            capacity = x*n_w\n",
    "            byte_capacity = math.ceil(capacity / 8)\n",
    "\n",
    "            randbytes = os.urandom(byte_capacity)\n",
    "\n",
    "            config.x = x\n",
    "            config.payload_bytes = randbytes\n",
    "\n",
    "            if np.issubdtype(dtype, np.floating):\n",
    "                arr = rng.random(size=(n_w, ), dtype=dtype)\n",
    "            elif np.issubdtype(dtype, np.integer):\n",
    "                arr = rng.integers(low=0, high = 2**n_bits, size=(n_w,), dtype=dtype)\n",
    "            else:\n",
    "                raise ValueError(f\"Unknown dtype {dtype}\")\n",
    "\n",
    "            # print(f\"dtype: {dtype}, n_w: {n_w}, x: {x}\")\n",
    "            arr_attacked_bitstring = check_attack(arr, config, _x_lsb_attack_numpy_bin)\n",
    "\n",
    "            if x % 8 == 0:\n",
    "                arr_attacked_numpy = check_attack(arr, config, _x_lsb_attack_numpy)\n",
    "                if not np.array_equal(arr_attacked_numpy, arr_attacked_bitstring):\n",
    "                    # print(f\"dtype: {dtype}, n_w: {n_w}, x: {x}\")\n",
    "                    # print(\"orig: \\n\", mcwa_to_bytes_arr(arr))\n",
    "                    # print(\"numpy: \\n\", mcwa_to_bytes_arr(arr_attacked_numpy))\n",
    "                    # print(\"bitstring: \\n\", mcwa_to_bytes_arr(arr_attacked_bitstring))\n",
    "                    pass\n",
    "                assert np.array_equal(arr_attacked_numpy, arr_attacked_bitstring)\n",
    "            \n",
    "            tests_c += 1\n",
    "except Exception as e:\n",
    "    print(f\"dtype: {dtype}, n_w: {n_w}, x: {x}\")\n",
    "    print(e)\n",
    "    print(traceback.format_exc())\n",
    "    pass\n",
    "\n",
    "print(f\"Tests passed: {tests_c}\") \n"
   ]
  },
  {
   "cell_type": "code",
   "execution_count": 5,
   "metadata": {},
   "outputs": [
    {
     "name": "stdout",
     "output_type": "stream",
     "text": [
      "bytes ver took:  0.17110419273376465\n",
      "bin ver took:  0.37720441818237305\n",
      "bitstring ver took:  44.787020206451416\n"
     ]
    }
   ],
   "source": [
    "import time\n",
    "import numpy as np\n",
    "\n",
    "rng = np.random.default_rng()\n",
    "\n",
    "n_w = 10_000_000\n",
    "arr = rng.random(size=(n_w, ), dtype=np.float32)\n",
    "\n",
    "config = XLSBAttackConfig(\n",
    "    x = 8,\n",
    "    fill=True,\n",
    "    payload_type=PayloadType.RANDOM,\n",
    "    payload_bytes=None\n",
    ")\n",
    "\n",
    "start = time.time()\n",
    "arr_attacked = _x_lsb_attack_numpy(arr, config)\n",
    "print(\"bytes ver took: \", time.time() - start)\n",
    "\n",
    "start = time.time()\n",
    "arr_attacked = _x_lsb_attack_numpy_bin(arr, config)\n",
    "print(\"bin ver took: \", time.time() - start)\n",
    "\n",
    "start = time.time()\n",
    "arr_attacked = _x_lsb_attack_bitstring(arr, config)\n",
    "print(\"bitstring ver took: \", time.time() - start)"
   ]
  },
  {
   "cell_type": "code",
   "execution_count": 3,
   "metadata": {},
   "outputs": [
    {
     "name": "stdout",
     "output_type": "stream",
     "text": [
      "['11111110', '11111100', '11111000']\n",
      "['11111111', '11111111', '11111011']\n"
     ]
    }
   ],
   "source": [
    "import math\n",
    "import numpy as np\n",
    "from bitstring import Dtype\n",
    "import itertools\n",
    "import os\n",
    "\n",
    "from model_xray.config_classes import XLSBAttackConfig, PayloadType\n",
    "from model_xray.utils.mal_embedding_utils import _x_lsb_attack_numpy, _x_lsb_attack_bitstring, _x_lsb_attack_numpy_bin, x_lsb_extract, mcwa_to_bytes_arr, bytes_arr_to_mcwa\n",
    "\n",
    "arr = np.array([0b11111110, 0b11111100, 0b11111000], dtype=np.uint8)\n",
    "\n",
    "payload = np.array([255,], dtype=np.uint8).tobytes()\n",
    "\n",
    "config = XLSBAttackConfig(\n",
    "    x = 2,\n",
    "    fill=True,\n",
    "    payload_type=PayloadType.PYTHON_BYTES,\n",
    "    payload_bytes=payload\n",
    ")\n",
    "\n",
    "arr_attacked = _x_lsb_attack_numpy_bin(arr, config)\n",
    "\n",
    "def ret_binstr_arr(a: np.ndarray):\n",
    "    return [np.binary_repr(x, 8) for x in a]\n",
    "\n",
    "print(ret_binstr_arr(arr))\n",
    "print(ret_binstr_arr(arr_attacked))"
   ]
  },
  {
   "cell_type": "code",
   "execution_count": 3,
   "metadata": {},
   "outputs": [
    {
     "name": "stdout",
     "output_type": "stream",
     "text": [
      "Array('uint16', [256, 512, 768, 1024, 1280, 1536, 1792, 2048])\n"
     ]
    }
   ],
   "source": [
    "import numpy as np\n",
    "from bitstring import BitArray, Array\n",
    "\n",
    "from model_xray.config_classes import XLSBAttackConfig, PayloadType\n",
    "from model_xray.utils.mal_embedding_utils import _x_lsb_attack_numpy, _x_lsb_attack_bitstring, x_lsb_extract, mcwa_to_bytes_arr, bytes_arr_to_mcwa\n",
    "\n",
    "n_w = 8\n",
    "n_bits = 16\n",
    "dtype = np.uint16\n",
    "\n",
    "rng = np.random.default_rng()\n",
    "# arr = rng.integers(low=0, high = 2**n_bits, size=(n_w,), dtype=dtype)\n",
    "\n",
    "arr = np.array([1, 2, 3, 4, 5, 6, 7, 8], dtype=dtype)\n",
    "\n",
    "c = Array(str(arr.dtype).lower())\n",
    "c.fromfile(arr.tobytes())\n",
    "\n",
    "print(c)\n",
    "\n",
    "# recon = np.frombuffer(c.tobytes(), dtype=dtype).reshape(arr.shape)\n",
    "\n",
    "# print(\"orig: \\n\", mcwa_to_bytes_arr(arr))\n",
    "# print(\"recon: \\n\", mcwa_to_bytes_arr(recon))"
   ]
  },
  {
   "cell_type": "code",
   "execution_count": 3,
   "metadata": {},
   "outputs": [
    {
     "name": "stdout",
     "output_type": "stream",
     "text": [
      "[[[0 0 0 0 0 0 0 1]]\n",
      "\n",
      " [[0 0 0 0 0 0 1 0]]\n",
      "\n",
      " [[0 0 0 0 0 0 1 1]]\n",
      "\n",
      " [[0 0 0 0 0 1 0 0]]\n",
      "\n",
      " [[0 0 0 0 0 1 0 1]]\n",
      "\n",
      " [[0 0 0 0 0 1 1 0]]\n",
      "\n",
      " [[0 0 0 0 0 1 1 1]]\n",
      "\n",
      " [[0 0 0 0 1 0 0 0]]]\n"
     ]
    }
   ],
   "source": [
    "import numpy as np\n",
    "\n",
    "n_b = 8\n",
    "byte_amnt = n_b // 8\n",
    "dt = np.dtype(f'uint{n_b}')\n",
    "\n",
    "arr = np.array([1, 2, 3, 4, 5, 6, 7, 8], dtype=np.uint8)\n",
    "unpacked = np.unpackbits(arr, bitorder='big').reshape(len(arr), byte_amnt, n_b)\n",
    "print(unpacked)"
   ]
  },
  {
   "cell_type": "code",
   "execution_count": 24,
   "metadata": {},
   "outputs": [
    {
     "name": "stdout",
     "output_type": "stream",
     "text": [
      "[[0 0 0 0 0 0]\n",
      " [0 1 1 0 0 1]]\n",
      "[[1 1]\n",
      " [1 1]]\n",
      "[[0 0 0 0 0 0 1 1]\n",
      " [0 1 1 0 0 1 1 1]]\n",
      "[[  3]\n",
      " [103]]\n"
     ]
    }
   ],
   "source": [
    "import numpy as np\n",
    "\n",
    "# n_b = 8\n",
    "# byte_amnt = n_b // 8\n",
    "# dt = np.dtype(f'uint{n_b}')\n",
    "\n",
    "# count = 4\n",
    "\n",
    "arr = np.array([[1, 2], [100, 200]], dtype=np.uint8)\n",
    "# arr.resize((len(arr), 1))\n",
    "arr.resize((*arr.shape,))\n",
    "unpacked = np.unpackbits(arr, axis=-1, count=6, bitorder='big')\n",
    "print(unpacked)\n",
    "\n",
    "\n",
    "addition = np.ones(shape=(2,2), dtype=np.uint8)\n",
    "\n",
    "print(addition)\n",
    "stacked = np.hstack([unpacked, addition])\n",
    "print(stacked)\n",
    "final = np.packbits(stacked, axis=-1, bitorder='big')\n",
    "\n",
    "print(final)"
   ]
  },
  {
   "cell_type": "code",
   "execution_count": 1,
   "metadata": {},
   "outputs": [
    {
     "name": "stdout",
     "output_type": "stream",
     "text": [
      "[[[ 63  61 122 204]\n",
      "  [191   0 160   0]\n",
      "  [225 204  72 205]\n",
      "  [  0   0   0   0]]\n",
      "\n",
      " [[ 61  63 251  25]\n",
      "  [ 63   0 128   0]\n",
      "  [231 153 109 154]\n",
      "  [  0   0   0   0]]]\n",
      "(2, 4, 4)\n"
     ]
    }
   ],
   "source": [
    "import numpy as np\n",
    "from model_xray.utils.general_utils import ndarray_to_bytes_arr, bytes_arr_to_ndarray\n",
    "\n",
    "from model_xray.utils.image_rep_utils import calc_closest_square, _grayscale_lastmbytes\n",
    "\n",
    "from model_xray.config_classes import ImageRepConfig, ImageType, GrayscaleLastMBytesConfig\n",
    "\n",
    "cfg = ImageRepConfig(\n",
    "    image_type=ImageType.GRAYSCALE_LAST_M_BYTES,\n",
    "    image_rep_config=GrayscaleLastMBytesConfig(\n",
    "        m=4\n",
    "    )\n",
    ")\n",
    "\n",
    "\n",
    "arr = np.array([[0.98, 0.1, -1.25], [0.123, 0.6, 1.0]], dtype=np.float32)\n",
    "\n",
    "img = _grayscale_lastmbytes(arr, cfg)\n",
    "print(img)\n",
    "print(img.shape)\n",
    "\n"
   ]
  },
  {
   "cell_type": "code",
   "execution_count": 1,
   "metadata": {},
   "outputs": [
    {
     "name": "stdout",
     "output_type": "stream",
     "text": [
      "arr_bytes: \n",
      " [[[ 63 122 225  72]\n",
      "  [ 61 204 204 205]\n",
      "  [191 160   0   0]]\n",
      "\n",
      " [[ 61 251 231 109]\n",
      "  [ 63  25 153 154]\n",
      "  [ 63 128   0   0]]]\n",
      "arr_recon: \n",
      " [[ 0.98   0.1   -1.25 ]\n",
      " [ 0.123  0.6    1.   ]]\n",
      "n_models:  2\n",
      "n_weights:  3\n",
      "closest square:  4\n",
      "last bytes: \n",
      " [[[ 63  61 191   0]\n",
      "  [122 204 160   0]\n",
      "  [225 204   0   0]\n",
      "  [ 72 205   0   0]]\n",
      "\n",
      " [[ 61  63  63   0]\n",
      "  [251  25 128   0]\n",
      "  [231 153   0   0]\n",
      "  [109 154   0   0]]]\n"
     ]
    }
   ],
   "source": [
    "import numpy as np\n",
    "from model_xray.utils.general_utils import ndarray_to_bytes_arr, bytes_arr_to_ndarray\n",
    "\n",
    "from model_xray.utils.image_rep_utils import calc_closest_square\n",
    "\n",
    "arr = np.array([[0.98, 0.1, -1.25], [0.123, 0.6, 1.0]], dtype=np.float32)\n",
    "\n",
    "arr_bytes = ndarray_to_bytes_arr(arr)\n",
    "print(\"arr_bytes: \\n\", arr_bytes)\n",
    "\n",
    "arr_recon = bytes_arr_to_ndarray(arr_bytes, dtype=np.float32)\n",
    "print(\"arr_recon: \\n\", arr_recon)\n",
    "\n",
    "m = 4\n",
    "\n",
    "last_byte = arr_bytes[..., -m:]\n",
    "\n",
    "n_models, n_weights = arr.shape\n",
    "print(\"n_models: \", n_models)\n",
    "print(\"n_weights: \", n_weights)\n",
    "\n",
    "closest_square = calc_closest_square(n_weights)\n",
    "closest_square_sqrt = int(np.sqrt(closest_square))\n",
    "print(\"closest square: \", closest_square)\n",
    "\n",
    "last_bytes_padded = np.pad(last_byte, ((0, 0), (0, closest_square-n_weights), (0, 0)), mode='constant', constant_values=0)\n",
    "\n",
    "last_bytes_padded = np.swapaxes(last_bytes_padded, -1, -2)\n",
    "\n",
    "print(\"last bytes: \\n\", last_bytes_padded)"
   ]
  },
  {
   "cell_type": "code",
   "execution_count": 2,
   "metadata": {},
   "outputs": [
    {
     "name": "stdout",
     "output_type": "stream",
     "text": [
      "(2, 4, 2, 2)\n",
      "[[[[ 63  61]\n",
      "   [191   0]]\n",
      "\n",
      "  [[122 204]\n",
      "   [160   0]]\n",
      "\n",
      "  [[225 204]\n",
      "   [  0   0]]\n",
      "\n",
      "  [[ 72 205]\n",
      "   [  0   0]]]\n",
      "\n",
      "\n",
      " [[[ 61  63]\n",
      "   [ 63   0]]\n",
      "\n",
      "  [[251  25]\n",
      "   [128   0]]\n",
      "\n",
      "  [[231 153]\n",
      "   [  0   0]]\n",
      "\n",
      "  [[109 154]\n",
      "   [  0   0]]]]\n"
     ]
    }
   ],
   "source": [
    "last_bytes_padded_reshaped = last_bytes_padded.reshape(last_bytes_padded.shape[:-1] + (closest_square_sqrt, closest_square_sqrt))\n",
    "\n",
    "print(last_bytes_padded_reshaped.shape)\n",
    "# n_models, n_weights, m\n",
    "\n",
    "print(last_bytes_padded_reshaped)"
   ]
  },
  {
   "cell_type": "code",
   "execution_count": 5,
   "metadata": {},
   "outputs": [
    {
     "name": "stdout",
     "output_type": "stream",
     "text": [
      "[[[[ 72 205]\n",
      "   [  0   0]]]\n",
      "\n",
      "\n",
      " [[[109 154]\n",
      "   [  0   0]]]]\n",
      "(2, 1, 2, 2)\n"
     ]
    }
   ],
   "source": [
    "b = np.block(last_bytes_padded_reshaped)\n",
    "print(b)\n",
    "print(b.shape)\n",
    "\n",
    "# np.dstack(last_bytes_padded_reshaped)"
   ]
  },
  {
   "cell_type": "code",
   "execution_count": 9,
   "metadata": {},
   "outputs": [
    {
     "name": "stdout",
     "output_type": "stream",
     "text": [
      "[[[[ 72 205]\n",
      "   [109 154]]\n",
      "\n",
      "  [[  0   0]\n",
      "   [  0   0]]]]\n",
      "(1, 2, 2, 2)\n"
     ]
    }
   ],
   "source": [
    "s = np.stack(last_bytes_padded_reshaped, axis=2)\n",
    "print(s)\n",
    "print(s.shape)"
   ]
  },
  {
   "cell_type": "code",
   "execution_count": 3,
   "metadata": {},
   "outputs": [
    {
     "name": "stdout",
     "output_type": "stream",
     "text": [
      "[[[ 63  61 122 204]\n",
      "  [191   0 160   0]\n",
      "  [225 204  72 205]\n",
      "  [  0   0   0   0]]\n",
      "\n",
      " [[ 61  63 251  25]\n",
      "  [ 63   0 128   0]\n",
      "  [231 153 109 154]\n",
      "  [  0   0   0   0]]]\n",
      "(2, 4, 4)\n"
     ]
    }
   ],
   "source": [
    "def reshape_array(arr):\n",
    "    n, m, d, _ = arr.shape\n",
    "    s = int(np.sqrt(m))\n",
    "    \n",
    "    # Reshape to (n, s, s, d, d)\n",
    "    reshaped = arr.reshape(n, s, s, d, d)\n",
    "    \n",
    "    # Transpose to (n, s, d, s, d)\n",
    "    transposed = reshaped.transpose(0, 1, 3, 2, 4)\n",
    "    \n",
    "    # Reshape to final shape (n, d*s, d*s)\n",
    "    result = transposed.reshape(n, d*s, d*s)\n",
    "    \n",
    "    return result\n",
    "\n",
    "b = reshape_array(last_bytes_padded_reshaped)\n",
    "print(b)\n",
    "print(b.shape)"
   ]
  },
  {
   "cell_type": "code",
   "execution_count": 4,
   "metadata": {},
   "outputs": [
    {
     "data": {
      "text/plain": [
       "(8,)"
      ]
     },
     "execution_count": 4,
     "metadata": {},
     "output_type": "execute_result"
    }
   ],
   "source": [
    "import numpy as np\n",
    "\n",
    "a = np.array([1, 2, 3, 4, 5, 6, 7, 8], dtype=np.uint8)\n",
    "a.shape"
   ]
  },
  {
   "cell_type": "code",
   "execution_count": 5,
   "metadata": {},
   "outputs": [
    {
     "data": {
      "text/plain": [
       "1"
      ]
     },
     "execution_count": 5,
     "metadata": {},
     "output_type": "execute_result"
    }
   ],
   "source": [
    "a.ndim"
   ]
  },
  {
   "cell_type": "code",
   "execution_count": 6,
   "metadata": {},
   "outputs": [
    {
     "data": {
      "text/plain": [
       "(1, 8)"
      ]
     },
     "execution_count": 6,
     "metadata": {},
     "output_type": "execute_result"
    }
   ],
   "source": [
    "a = a.reshape((1, -1))\n",
    "a.shape"
   ]
  },
  {
   "cell_type": "code",
   "execution_count": 1,
   "metadata": {},
   "outputs": [
    {
     "data": {
      "text/plain": [
       "array([0.123], dtype='>f4')"
      ]
     },
     "execution_count": 1,
     "metadata": {},
     "output_type": "execute_result"
    }
   ],
   "source": [
    "import numpy as np\n",
    "\n",
    "from model_xray.utils.general_utils import ndarray_to_bytes_arr, bytes_arr_to_ndarray\n",
    "\n",
    "dt_initial = np.dtype(np.uint8)\n",
    "dt_initial = dt_initial.newbyteorder('>')\n",
    "\n",
    "expected_end_result = np.array([[\n",
    "    [[61,]], [[251,]],\n",
    "    [[231,]], [[109,]]\n",
    "]],\n",
    "dtype=dt_initial)\n",
    "\n",
    "intermediate_result = np.array([[\n",
    "    61, 251, 231, 109\n",
    "]],\n",
    "dtype=dt_initial)\n",
    "\n",
    "dt = np.dtype(np.float32)\n",
    "dt = dt.newbyteorder('>')\n",
    "\n",
    "final_arr = np.frombuffer(expected_end_result.tobytes(), dtype=dt)\n",
    "final_arr\n",
    "# intermediate_result.shape"
   ]
  },
  {
   "cell_type": "code",
   "execution_count": 2,
   "metadata": {},
   "outputs": [
    {
     "data": {
      "text/plain": [
       "array([[ 61, 251, 231, 109],\n",
       "       [ 64,   8,  81, 236],\n",
       "       [ 66, 154,   0,   0]], dtype=uint8)"
      ]
     },
     "execution_count": 2,
     "metadata": {},
     "output_type": "execute_result"
    }
   ],
   "source": [
    "a = np.array([0.123, 2.13, 77.0], dtype=np.float32)\n",
    "a_bytes = ndarray_to_bytes_arr(a)\n",
    "\n",
    "a_bytes"
   ]
  },
  {
   "cell_type": "code",
   "execution_count": 4,
   "metadata": {},
   "outputs": [
    {
     "data": {
      "text/plain": [
       "array([[[ 61,  64, 251,   8],\n",
       "        [ 66,   0, 154,   0],\n",
       "        [231,  81, 109, 236],\n",
       "        [  0,   0,   0,   0]]], dtype=uint8)"
      ]
     },
     "execution_count": 4,
     "metadata": {},
     "output_type": "execute_result"
    }
   ],
   "source": [
    "from model_xray.utils.image_rep_utils import _grayscale_fourpart\n",
    "\n",
    "\n",
    "res = _grayscale_fourpart(a)\n",
    "res"
   ]
  },
  {
   "cell_type": "code",
   "execution_count": 4,
   "metadata": {},
   "outputs": [
    {
     "data": {
      "text/plain": [
       "[TensorShape([20, 4]),\n",
       " TensorShape([4]),\n",
       " TensorShape([4, 17]),\n",
       " TensorShape([17])]"
      ]
     },
     "execution_count": 4,
     "metadata": {},
     "output_type": "execute_result"
    }
   ],
   "source": [
    "import keras\n",
    "\n",
    "import numpy as np\n",
    "import tensorflow as tf\n",
    "\n",
    "from model_xray.utils.model_utils import extract_weights\n",
    "\n",
    "def custom_weight_init(shape, dtype=None):\n",
    "    return tf.reshape((tf.range(1, np.prod(shape)+1, dtype=dtype) * 0.111 ), shape=shape)\n",
    "\n",
    "model = keras.Sequential(\n",
    "        [\n",
    "            keras.layers.Dense(4, kernel_initializer=custom_weight_init, activation=\"relu\", name=\"layer1\"),\n",
    "            keras.layers.Dense(17, kernel_initializer=custom_weight_init, activation=\"relu\", name=\"layer2\"),\n",
    "            # keras.layers.Dense(4, name=\"layer3\"),\n",
    "        ]\n",
    "    )\n",
    "\n",
    "\n",
    "\n",
    "model.build((18, 20))\n",
    "# x = tf.ones((1, 2))\n",
    "# y = model(x)\n",
    "\n",
    "shapes = [w.shape for w in model.weights]\n",
    "shapes\n",
    "\n",
    "# w = extract_weights(model)\n",
    "# w"
   ]
  },
  {
   "cell_type": "code",
   "execution_count": 5,
   "metadata": {},
   "outputs": [
    {
     "data": {
      "text/plain": [
       "[<tf.Variable 'layer1/kernel:0' shape=(2, 2) dtype=float32, numpy=\n",
       " array([[ 1.2158784 ,  1.1422704 ],\n",
       "        [-0.35471785, -0.77634585]], dtype=float32)>,\n",
       " <tf.Variable 'layer1/bias:0' shape=(2,) dtype=float32, numpy=array([0., 0.], dtype=float32)>,\n",
       " <tf.Variable 'layer2/kernel:0' shape=(2, 2) dtype=float32, numpy=\n",
       " array([[-0.83238983, -1.0574483 ],\n",
       "        [ 0.7510748 , -0.59170717]], dtype=float32)>,\n",
       " <tf.Variable 'layer2/bias:0' shape=(2,) dtype=float32, numpy=array([0., 0.], dtype=float32)>]"
      ]
     },
     "execution_count": 5,
     "metadata": {},
     "output_type": "execute_result"
    }
   ],
   "source": [
    "mw = model.weights\n",
    "mw_k0 = mw[0]\n",
    "mw_b0 = mw[1]\n",
    "mw_k1 = mw[2]\n",
    "mw_b0 = mw[3]\n",
    "\n",
    "mw_k0 = [[1, 2], [3, 4]]\n",
    "\n",
    "model.weights"
   ]
  },
  {
   "cell_type": "code",
   "execution_count": 2,
   "metadata": {},
   "outputs": [
    {
     "name": "stdout",
     "output_type": "stream",
     "text": [
      "Fold 0:\n",
      "  Train: index=[[0. 0.]\n",
      " [0. 0.]\n",
      " [0. 0.]\n",
      " [0. 0.]\n",
      " [0. 0.]\n",
      " [0. 0.]\n",
      " [0. 0.]\n",
      " [0. 0.]\n",
      " [0. 0.]\n",
      " [0. 0.]\n",
      " [0. 0.]\n",
      " [0. 0.]\n",
      " [0. 0.]\n",
      " [0. 0.]\n",
      " [0. 0.]\n",
      " [0. 0.]\n",
      " [0. 0.]\n",
      " [0. 0.]]\n",
      "  Test:  index=[[0. 0.]\n",
      " [0. 0.]]\n",
      "Fold 1:\n",
      "  Train: index=[[0. 0.]\n",
      " [0. 0.]\n",
      " [0. 0.]\n",
      " [0. 0.]\n",
      " [0. 0.]\n",
      " [0. 0.]\n",
      " [0. 0.]\n",
      " [0. 0.]\n",
      " [0. 0.]\n",
      " [0. 0.]\n",
      " [0. 0.]\n",
      " [0. 0.]\n",
      " [0. 0.]\n",
      " [0. 0.]\n",
      " [0. 0.]\n",
      " [0. 0.]\n",
      " [0. 0.]\n",
      " [0. 0.]]\n",
      "  Test:  index=[[0. 0.]\n",
      " [0. 0.]]\n",
      "Fold 2:\n",
      "  Train: index=[[0. 0.]\n",
      " [0. 0.]\n",
      " [0. 0.]\n",
      " [0. 0.]\n",
      " [0. 0.]\n",
      " [0. 0.]\n",
      " [0. 0.]\n",
      " [0. 0.]\n",
      " [0. 0.]\n",
      " [0. 0.]\n",
      " [0. 0.]\n",
      " [0. 0.]\n",
      " [0. 0.]\n",
      " [0. 0.]\n",
      " [0. 0.]\n",
      " [0. 0.]\n",
      " [0. 0.]\n",
      " [0. 0.]]\n",
      "  Test:  index=[[0. 0.]\n",
      " [0. 0.]]\n",
      "Fold 3:\n",
      "  Train: index=[[0. 0.]\n",
      " [0. 0.]\n",
      " [0. 0.]\n",
      " [0. 0.]\n",
      " [0. 0.]\n",
      " [0. 0.]\n",
      " [0. 0.]\n",
      " [0. 0.]\n",
      " [0. 0.]\n",
      " [0. 0.]\n",
      " [0. 0.]\n",
      " [0. 0.]\n",
      " [0. 0.]\n",
      " [0. 0.]\n",
      " [0. 0.]\n",
      " [0. 0.]\n",
      " [0. 0.]\n",
      " [0. 0.]]\n",
      "  Test:  index=[[0. 0.]\n",
      " [0. 0.]]\n",
      "Fold 4:\n",
      "  Train: index=[[0. 0.]\n",
      " [0. 0.]\n",
      " [0. 0.]\n",
      " [0. 0.]\n",
      " [0. 0.]\n",
      " [0. 0.]\n",
      " [0. 0.]\n",
      " [0. 0.]\n",
      " [0. 0.]\n",
      " [0. 0.]\n",
      " [0. 0.]\n",
      " [0. 0.]\n",
      " [0. 0.]\n",
      " [0. 0.]\n",
      " [0. 0.]\n",
      " [0. 0.]\n",
      " [0. 0.]\n",
      " [0. 0.]]\n",
      "  Test:  index=[[0. 0.]\n",
      " [0. 0.]]\n",
      "Fold 5:\n",
      "  Train: index=[[0. 0.]\n",
      " [0. 0.]\n",
      " [0. 0.]\n",
      " [0. 0.]\n",
      " [0. 0.]\n",
      " [0. 0.]\n",
      " [0. 0.]\n",
      " [0. 0.]\n",
      " [0. 0.]\n",
      " [0. 0.]\n",
      " [0. 0.]\n",
      " [0. 0.]\n",
      " [0. 0.]\n",
      " [0. 0.]\n",
      " [0. 0.]\n",
      " [0. 0.]\n",
      " [0. 0.]\n",
      " [0. 0.]]\n",
      "  Test:  index=[[0. 0.]\n",
      " [0. 0.]]\n",
      "Fold 6:\n",
      "  Train: index=[[0. 0.]\n",
      " [0. 0.]\n",
      " [0. 0.]\n",
      " [0. 0.]\n",
      " [0. 0.]\n",
      " [0. 0.]\n",
      " [0. 0.]\n",
      " [0. 0.]\n",
      " [0. 0.]\n",
      " [0. 0.]\n",
      " [0. 0.]\n",
      " [0. 0.]\n",
      " [0. 0.]\n",
      " [0. 0.]\n",
      " [0. 0.]\n",
      " [0. 0.]\n",
      " [0. 0.]\n",
      " [0. 0.]]\n",
      "  Test:  index=[[0. 0.]\n",
      " [0. 0.]]\n",
      "Fold 7:\n",
      "  Train: index=[[0. 0.]\n",
      " [0. 0.]\n",
      " [0. 0.]\n",
      " [0. 0.]\n",
      " [0. 0.]\n",
      " [0. 0.]\n",
      " [0. 0.]\n",
      " [0. 0.]\n",
      " [0. 0.]\n",
      " [0. 0.]\n",
      " [0. 0.]\n",
      " [0. 0.]\n",
      " [0. 0.]\n",
      " [0. 0.]\n",
      " [0. 0.]\n",
      " [0. 0.]\n",
      " [0. 0.]\n",
      " [0. 0.]]\n",
      "  Test:  index=[[0. 0.]\n",
      " [0. 0.]]\n",
      "Fold 8:\n",
      "  Train: index=[[0. 0.]\n",
      " [0. 0.]\n",
      " [0. 0.]\n",
      " [0. 0.]\n",
      " [0. 0.]\n",
      " [0. 0.]\n",
      " [0. 0.]\n",
      " [0. 0.]\n",
      " [0. 0.]\n",
      " [0. 0.]\n",
      " [0. 0.]\n",
      " [0. 0.]\n",
      " [0. 0.]\n",
      " [0. 0.]\n",
      " [0. 0.]\n",
      " [0. 0.]\n",
      " [0. 0.]\n",
      " [0. 0.]]\n",
      "  Test:  index=[[0. 0.]\n",
      " [0. 0.]]\n",
      "Fold 9:\n",
      "  Train: index=[[0. 0.]\n",
      " [0. 0.]\n",
      " [0. 0.]\n",
      " [0. 0.]\n",
      " [0. 0.]\n",
      " [0. 0.]\n",
      " [0. 0.]\n",
      " [0. 0.]\n",
      " [0. 0.]\n",
      " [0. 0.]\n",
      " [0. 0.]\n",
      " [0. 0.]\n",
      " [0. 0.]\n",
      " [0. 0.]\n",
      " [0. 0.]\n",
      " [0. 0.]\n",
      " [0. 0.]\n",
      " [0. 0.]]\n",
      "  Test:  index=[[0. 0.]\n",
      " [0. 0.]]\n"
     ]
    }
   ],
   "source": [
    "import numpy as np\n",
    "from sklearn.model_selection import KFold\n",
    "n, d = 20,2\n",
    "X = np.zeros((n,d))\n",
    "y = np.zeros((n,))\n",
    "\n",
    "k = 10\n",
    "\n",
    "kf = KFold(n_splits=k, random_state=None, shuffle=False)\n",
    "\n",
    "for i, (train_index, test_index) in enumerate(kf.split(X)):\n",
    "    print(f\"Fold {i}:\")\n",
    "    print(f\"  Train: index={X[train_index]}\")\n",
    "    print(f\"  Test:  index={X[test_index]}\")"
   ]
  },
  {
   "cell_type": "code",
   "execution_count": null,
   "metadata": {},
   "outputs": [],
   "source": []
  },
  {
   "cell_type": "markdown",
   "metadata": {},
   "source": [
    "# Image reps"
   ]
  },
  {
   "cell_type": "code",
   "execution_count": 1,
   "metadata": {},
   "outputs": [
    {
     "name": "stderr",
     "output_type": "stream",
     "text": [
      "2024-08-20 21:55:04.183270: I tensorflow/core/util/port.cc:111] oneDNN custom operations are on. You may see slightly different numerical results due to floating-point round-off errors from different computation orders. To turn them off, set the environment variable `TF_ENABLE_ONEDNN_OPTS=0`.\n",
      "2024-08-20 21:55:04.206779: E tensorflow/compiler/xla/stream_executor/cuda/cuda_dnn.cc:9342] Unable to register cuDNN factory: Attempting to register factory for plugin cuDNN when one has already been registered\n",
      "2024-08-20 21:55:04.206797: E tensorflow/compiler/xla/stream_executor/cuda/cuda_fft.cc:609] Unable to register cuFFT factory: Attempting to register factory for plugin cuFFT when one has already been registered\n",
      "2024-08-20 21:55:04.206812: E tensorflow/compiler/xla/stream_executor/cuda/cuda_blas.cc:1518] Unable to register cuBLAS factory: Attempting to register factory for plugin cuBLAS when one has already been registered\n",
      "2024-08-20 21:55:04.211050: I tensorflow/core/platform/cpu_feature_guard.cc:182] This TensorFlow binary is optimized to use available CPU instructions in performance-critical operations.\n",
      "To enable the following instructions: AVX2 AVX512F AVX512_VNNI FMA, in other operations, rebuild TensorFlow with the appropriate compiler flags.\n",
      "2024-08-20 21:55:04.699052: W tensorflow/compiler/tf2tensorrt/utils/py_utils.cc:38] TF-TRT Warning: Could not find TensorRT\n"
     ]
    },
    {
     "name": "stdout",
     "output_type": "stream",
     "text": [
      "data_bytes:\n",
      " [[[ 61 251 231 109]]]\n",
      "first_2_bytes_unpacked:\n",
      " [[[0 0 1 1 1 1 0 1 1 1 1 1 1 0 1 1]]]\n",
      "concated_bytes:\n",
      " [[[123]]]\n",
      "all_bytes:\n",
      " [[[123 231 109]]]\n"
     ]
    },
    {
     "data": {
      "text/plain": [
       "array([[[148]]], dtype=uint8)"
      ]
     },
     "execution_count": 1,
     "metadata": {},
     "output_type": "execute_result"
    }
   ],
   "source": [
    "import numpy as np\n",
    "from model_xray.config_classes import *\n",
    "from model_xray.utils.image_rep_utils import _grayscale_weighted_avg\n",
    "\n",
    "dt_uint8_be = np.dtype('>u1')\n",
    "dt_float32_be = np.dtype('>f4')\n",
    "\n",
    "dt_float32_ne = np.dtype('=f4')\n",
    "\n",
    "expected_end_result = np.array([[\n",
    "    [50,]\n",
    "]],\n",
    "dtype=dt_uint8_be)\n",
    "\n",
    "a_input = np.array([[0.123,]], dtype=dt_float32_ne)\n",
    "\n",
    "result = _grayscale_weighted_avg(a_input, config=ImageRepConfig(\n",
    "    image_type=ImageType.GRAYSCALE_WEIGHTED_AVG,\n",
    "    image_rep_config=GrayscaleWeightedAvgConfig(),\n",
    "))\n",
    "result"
   ]
  },
  {
   "cell_type": "code",
   "execution_count": 5,
   "metadata": {},
   "outputs": [
    {
     "name": "stdout",
     "output_type": "stream",
     "text": [
      "data_bytes:\n",
      " [[[ 61 251 231 109]\n",
      "  [ 64   8  81 236]]\n",
      "\n",
      " [[ 66 154   0   0]\n",
      "  [191 157 112 164]]]\n",
      "first_2_bytes_unpacked:\n",
      " [[[0 0 1 1 1 1 0 1 1 1 1 1 1 0 1 1]\n",
      "  [0 1 0 0 0 0 0 0 0 0 0 0 1 0 0 0]]\n",
      "\n",
      " [[0 1 0 0 0 0 1 0 1 0 0 1 1 0 1 0]\n",
      "  [1 0 1 1 1 1 1 1 1 0 0 1 1 1 0 1]]]\n",
      "concated_bytes:\n",
      " [[[123]\n",
      "  [  8]]\n",
      "\n",
      " [[ 26]\n",
      "  [157]]]\n",
      "all_bytes:\n",
      " [[[123 231 109]\n",
      "  [  8  81 236]]\n",
      "\n",
      " [[ 26   0   0]\n",
      "  [157 112 164]]]\n"
     ]
    },
    {
     "data": {
      "text/plain": [
       "array([[[148, 143],\n",
       "        [  0,   0]],\n",
       "\n",
       "       [[  5, 147],\n",
       "        [  0,   0]]], dtype=uint8)"
      ]
     },
     "execution_count": 5,
     "metadata": {},
     "output_type": "execute_result"
    }
   ],
   "source": [
    "a_input = np.array([[0.123, 2.13],[77.0, -1.23]], dtype=dt_float32_ne)\n",
    "result = _grayscale_weighted_avg(a_input, config=ImageRepConfig(\n",
    "    image_type=ImageType.GRAYSCALE_WEIGHTED_AVG,\n",
    "    image_rep_config=GrayscaleWeightedAvgConfig(),\n",
    "))\n",
    "result"
   ]
  },
  {
   "cell_type": "code",
   "execution_count": null,
   "metadata": {},
   "outputs": [],
   "source": []
  }
 ],
 "metadata": {
  "kernelspec": {
   "display_name": "Python 3",
   "language": "python",
   "name": "python3"
  },
  "language_info": {
   "codemirror_mode": {
    "name": "ipython",
    "version": 3
   },
   "file_extension": ".py",
   "mimetype": "text/x-python",
   "name": "python",
   "nbconvert_exporter": "python",
   "pygments_lexer": "ipython3",
   "version": "3.11.9"
  }
 },
 "nbformat": 4,
 "nbformat_minor": 2
}
