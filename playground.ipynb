{
 "cells": [
  {
   "cell_type": "code",
   "execution_count": 1,
   "metadata": {},
   "outputs": [
    {
     "name": "stdout",
     "output_type": "stream",
     "text": [
      "DenseNet121\n",
      "float32 (1, 8062504)\n",
      "EfficientNetV2B0\n",
      "float32 (1, 7200312)\n",
      "EfficientNetV2B1\n",
      "float32 (1, 8212124)\n",
      "MobileNet\n",
      "float32 (1, 4253864)\n",
      "MobileNetV2\n",
      "float32 (1, 3538984)\n",
      "MobileNetV3Large\n",
      "float32 (1, 5507432)\n",
      "MobileNetV3Small\n",
      "float32 (1, 2554968)\n",
      "NASNetMobile\n",
      "float32 (1, 5326716)\n"
     ]
    }
   ],
   "source": [
    "import h5py\n",
    "from model_xray.config import *\n",
    "from model_xray.path_manager import pm\n",
    "\n",
    "with h5py.File(pm.get_mcwa_path('famous_le_10m'), 'r') as f:\n",
    "    for mz_name in f:\n",
    "        print(mz_name)\n",
    "        mz = f[mz_name]\n",
    "        print(mz.dtype, mz.shape)"
   ]
  },
  {
   "cell_type": "code",
   "execution_count": 3,
   "metadata": {},
   "outputs": [
    {
     "name": "stdout",
     "output_type": "stream",
     "text": [
      "capacity: 30, n_b: 8\n",
      "payload bits: 00000000000000010000001000000011000001000000010100000110000001110001010000001110, len(bits): 80\n",
      "dupe_amount: 1\n",
      "len(bits): 80\n",
      "reshaped: Array('bin3', ['000', '000', '000', '000', '000', '100', '000', '010', '000', '000']), remainder: Array('bin50', ['11000001000000010100000110000001110001010000001110'])\n",
      "[0 0 0 0 0 0 0 0 0 0]\n",
      "[0 0 0 0 0 4 0 2 0 0]\n",
      "capacity: 30, n_b: 8\n",
      "bits: Array('bin3', ['000', '000', '000', '000', '000', '100', '000', '010', '000', '000'])\n",
      "[ 0  1  2  3  4  5  6  7 20 14]\n",
      "[0 1 2 0]\n"
     ]
    },
    {
     "ename": "AssertionError",
     "evalue": "",
     "output_type": "error",
     "traceback": [
      "\u001b[0;31m---------------------------------------------------------------------------\u001b[0m",
      "\u001b[0;31mAssertionError\u001b[0m                            Traceback (most recent call last)",
      "Cell \u001b[0;32mIn[3], line 30\u001b[0m\n\u001b[1;32m     27\u001b[0m \u001b[38;5;28mprint\u001b[39m(payload_bytes_as_array)\n\u001b[1;32m     28\u001b[0m \u001b[38;5;28mprint\u001b[39m(extracted_bytes_as_array)\n\u001b[0;32m---> 30\u001b[0m \u001b[38;5;28;01massert\u001b[39;00m extracted_bytes \u001b[38;5;241m==\u001b[39m payload_bytes\n",
      "\u001b[0;31mAssertionError\u001b[0m: "
     ]
    }
   ],
   "source": [
    "from model_xray.config_classes import XLSBAttackConfig, PayloadType\n",
    "from model_xray.utils.mal_embedding_utils import x_lsb_attack, x_lsb_extract\n",
    "\n",
    "import numpy as np\n",
    "\n",
    "arr = np.zeros((10, ), dtype=np.uint8)\n",
    "\n",
    "payload = np.array([0, 1, 2, 3, 4, 5, 6, 7, 20, 14], dtype=np.uint8)\n",
    "payload_bytes = payload.tobytes()\n",
    "\n",
    "config = XLSBAttackConfig(\n",
    "    x = 3,\n",
    "    fill=True,\n",
    "    payload_type=PayloadType.PYTHON_BYTES,\n",
    "    payload_bytes=payload_bytes\n",
    ")\n",
    "\n",
    "arr_attacked = x_lsb_attack(arr, config)\n",
    "print(arr)\n",
    "print(arr_attacked)\n",
    "\n",
    "extracted_bytes = x_lsb_extract(arr_attacked, config)\n",
    "\n",
    "payload_bytes_as_array = np.frombuffer(payload_bytes, dtype=np.uint8)\n",
    "extracted_bytes_as_array = np.frombuffer(extracted_bytes, dtype=np.uint8)\n",
    "\n",
    "print(payload_bytes_as_array)\n",
    "print(extracted_bytes_as_array)\n",
    "\n",
    "assert extracted_bytes == payload_bytes"
   ]
  },
  {
   "cell_type": "code",
   "execution_count": 1,
   "metadata": {},
   "outputs": [
    {
     "name": "stdout",
     "output_type": "stream",
     "text": [
      "Tests passed: 840\n"
     ]
    }
   ],
   "source": [
    "import numpy as np\n",
    "from bitstring import Dtype\n",
    "import itertools\n",
    "import os\n",
    "\n",
    "from model_xray.config_classes import XLSBAttackConfig, PayloadType\n",
    "from model_xray.utils.mal_embedding_utils import x_lsb_attack, x_lsb_extract\n",
    "\n",
    "rng = np.random.default_rng()\n",
    "\n",
    "dtypes = [np.uint8, np.uint16, np.uint32, np.uint64, np.float32, np.float64]\n",
    "\n",
    "n_ws = [8, 16, 32, 64]\n",
    "\n",
    "config = XLSBAttackConfig(\n",
    "    x = 3,\n",
    "    fill=True,\n",
    "    payload_type=PayloadType.PYTHON_BYTES,\n",
    "    payload_bytes=None\n",
    ")\n",
    "\n",
    "tests_c = 0\n",
    "\n",
    "for dtype, n_w in itertools.product(dtypes, n_ws):\n",
    "    dtype_str = dtype.__name__\n",
    "    # print(dtype_str)\n",
    "    n_bits = Dtype(dtype_str).length\n",
    "    # print(n_bits)\n",
    "\n",
    "    for x in range(1, n_bits):\n",
    "\n",
    "        capacity = x*n_w\n",
    "        byte_capacity = capacity // 8\n",
    "\n",
    "        randbytes = os.urandom(byte_capacity)\n",
    "\n",
    "        config.x = x\n",
    "        config.payload_bytes = randbytes\n",
    "\n",
    "        if np.issubdtype(dtype, np.floating):\n",
    "            arr = rng.random(size=(n_w, ), dtype=dtype)\n",
    "        elif np.issubdtype(dtype, np.integer):\n",
    "            arr = rng.integers(low=0, high = 2**n_bits, size=(n_w,), dtype=dtype)\n",
    "        else:\n",
    "            raise ValueError(f\"Unknown dtype {dtype}\")\n",
    "\n",
    "        arr_attacked = x_lsb_attack(arr, config)\n",
    "\n",
    "        config.msb = True\n",
    "        unattacked_bytes_orig = x_lsb_extract(arr, config)\n",
    "        unattacked_bytes_attacked = x_lsb_extract(arr_attacked, config)\n",
    "\n",
    "        assert unattacked_bytes_orig == unattacked_bytes_attacked\n",
    "\n",
    "        config.msb = False\n",
    "        extracted_bytes = x_lsb_extract(arr_attacked, config)\n",
    "\n",
    "        assert extracted_bytes == randbytes\n",
    "        tests_c += 1\n",
    "\n",
    "print(f\"Tests passed: {tests_c}\") \n"
   ]
  },
  {
   "cell_type": "code",
   "execution_count": null,
   "metadata": {},
   "outputs": [],
   "source": []
  }
 ],
 "metadata": {
  "kernelspec": {
   "display_name": "Python 3",
   "language": "python",
   "name": "python3"
  },
  "language_info": {
   "codemirror_mode": {
    "name": "ipython",
    "version": 3
   },
   "file_extension": ".py",
   "mimetype": "text/x-python",
   "name": "python",
   "nbconvert_exporter": "python",
   "pygments_lexer": "ipython3",
   "version": "3.11.9"
  }
 },
 "nbformat": 4,
 "nbformat_minor": 2
}
