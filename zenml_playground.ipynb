{
 "cells": [
  {
   "cell_type": "code",
   "execution_count": 3,
   "metadata": {},
   "outputs": [
    {
     "name": "stdout",
     "output_type": "stream",
     "text": [
      "Starting embedding random payload into MobileNet pretrained weights using x_lsb_attack_fill embedding with x=8\n",
      "\u001b[1;35mInitiating a new run for the pipeline: \u001b[0m\u001b[1;36mimage_representation_from_attacked_pretrained_pipeline\u001b[1;35m.\u001b[0m\n",
      "\u001b[1;35mExecuting a new run.\u001b[0m\n",
      "\u001b[1;35mUsing user: \u001b[0m\u001b[1;36mdefault\u001b[1;35m\u001b[0m\n",
      "\u001b[1;35mUsing stack: \u001b[0m\u001b[1;36mcustom-stack\u001b[1;35m\u001b[0m\n",
      "\u001b[1;35m  experiment_tracker: \u001b[0m\u001b[1;36mmlflow_experiment_tracker\u001b[1;35m\u001b[0m\n",
      "\u001b[1;35m  orchestrator: \u001b[0m\u001b[1;36mdefault\u001b[1;35m\u001b[0m\n",
      "\u001b[1;35m  artifact_store: \u001b[0m\u001b[1;36mcustom_artifact_store_local\u001b[1;35m\u001b[0m\n",
      "\u001b[1;35mDashboard URL: \u001b[0m\u001b[34mhttp://127.0.0.1:8237/runs/0ee62796-714b-4cfa-9c79-e9d2be37c33a\u001b[1;35m\u001b[0m\n",
      "\u001b[1;35mCaching \u001b[0m\u001b[1;36menabled\u001b[1;35m explicitly for \u001b[0m\u001b[1;36mfetch_pretrained\u001b[1;35m.\u001b[0m\n",
      "\u001b[1;35mUsing cached version of \u001b[0m\u001b[1;36mfetch_pretrained\u001b[1;35m.\u001b[0m\n",
      "\u001b[1;35mStep \u001b[0m\u001b[1;36mfetch_pretrained\u001b[1;35m has started.\u001b[0m\n",
      "\u001b[1;35mCaching \u001b[0m\u001b[1;36menabled\u001b[1;35m explicitly for \u001b[0m\u001b[1;36mextract_weights\u001b[1;35m.\u001b[0m\n",
      "\u001b[1;35mUsing cached version of \u001b[0m\u001b[1;36mextract_weights\u001b[1;35m.\u001b[0m\n",
      "\u001b[1;35mStep \u001b[0m\u001b[1;36mextract_weights\u001b[1;35m has started.\u001b[0m\n",
      "\u001b[1;35mUsing cached version of \u001b[0m\u001b[1;36membed_payload_into_weights\u001b[1;35m.\u001b[0m\n",
      "\u001b[1;35mStep \u001b[0m\u001b[1;36membed_payload_into_weights\u001b[1;35m has started.\u001b[0m\n",
      "\u001b[1;35mUsing cached version of \u001b[0m\u001b[1;36mcreate_image_representation\u001b[1;35m.\u001b[0m\n",
      "\u001b[1;35mStep \u001b[0m\u001b[1;36mcreate_image_representation\u001b[1;35m has started.\u001b[0m\n",
      "\u001b[1;35mPipeline run has finished in \u001b[0m\u001b[1;36m1.251s\u001b[1;35m.\u001b[0m\n"
     ]
    }
   ],
   "source": [
    "from model_xray.zenml.pipelines.data_creation.data_classes import ModelRepos\n",
    "from model_xray.zenml.pipelines.data_creation.model_attack import embed_payload_into_pretrained_weights_pipeline\n",
    "from model_xray.config_classes import EmbedPayloadConfig, EmbedType, GrayscaleLastMBytesConfig, ImageRepConfig, ImageType, PayloadType, XLSBAttackConfig\n",
    "from model_xray.utils.image_rep_utils import image_rep_map\n",
    "\n",
    "from model_xray.zenml.pipelines.data_creation.image_representation import image_representation_from_attacked_pretrained_pipeline\n",
    "\n",
    "\n",
    "pretrained_model_name = \"MobileNet\"\n",
    "pretrained_model_repo = ModelRepos.KERAS\n",
    "\n",
    "embedding_config = EmbedPayloadConfig(\n",
    "    embed_type=EmbedType.X_LSB_ATTACK_FILL,\n",
    "    embed_proc_config=XLSBAttackConfig(\n",
    "        x=8,\n",
    "        fill=True,\n",
    "        msb=False,\n",
    "        payload_type=PayloadType.RANDOM,\n",
    "    )\n",
    ")\n",
    "\n",
    "res = image_representation_from_attacked_pretrained_pipeline(\n",
    "    pretrained_model_name=pretrained_model_name,\n",
    "    pretrained_model_repo=pretrained_model_repo,\n",
    "    embed_payload_config=embedding_config,\n",
    "    image_rep_config=ImageRepConfig(\n",
    "        image_type=ImageType.GRAYSCALE_LAST_M_BYTES,\n",
    "        image_rep_config=GrayscaleLastMBytesConfig(m=4)\n",
    "    )\n",
    ")"
   ]
  },
  {
   "cell_type": "code",
   "execution_count": 6,
   "metadata": {},
   "outputs": [
    {
     "data": {
      "text/plain": [
       "(1, 4126, 4126)"
      ]
     },
     "execution_count": 6,
     "metadata": {},
     "output_type": "execute_result"
    }
   ],
   "source": [
    "# res.steps.keys()\n",
    "im = res.steps[\"create_image_representation\"].output.load()\n",
    "im.shape\n",
    "# im = "
   ]
  },
  {
   "cell_type": "code",
   "execution_count": null,
   "metadata": {},
   "outputs": [],
   "source": []
  }
 ],
 "metadata": {
  "kernelspec": {
   "display_name": "Python 3",
   "language": "python",
   "name": "python3"
  },
  "language_info": {
   "codemirror_mode": {
    "name": "ipython",
    "version": 3
   },
   "file_extension": ".py",
   "mimetype": "text/x-python",
   "name": "python",
   "nbconvert_exporter": "python",
   "pygments_lexer": "ipython3",
   "version": "3.11.9"
  }
 },
 "nbformat": 4,
 "nbformat_minor": 2
}
