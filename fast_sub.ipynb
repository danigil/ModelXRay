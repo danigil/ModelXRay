{
 "cells": [
  {
   "cell_type": "code",
   "execution_count": 1,
   "metadata": {},
   "outputs": [
    {
     "data": {
      "application/vnd.jupyter.widget-view+json": {
       "model_id": "f6a23a83830e42b8811d718e4f022336",
       "version_major": 2,
       "version_minor": 0
      },
      "text/plain": [
       "  0%|          | 0/252 [00:00<?, ?it/s]"
      ]
     },
     "metadata": {},
     "output_type": "display_data"
    }
   ],
   "source": [
    "# import itertools\n",
    "from typing import Literal, Tuple\n",
    "import numpy as np\n",
    "\n",
    "# from tqdm import tqdm\n",
    "\n",
    "# def ndarr_to_bytes_arr(a: np.ndarray):\n",
    "#     assert isinstance(a.dtype.itemsize, int) and a.dtype.itemsize>=1\n",
    "#     newshape = a.shape + (a.dtype.itemsize,)\n",
    "#     dtype = np.dtype('=u1') # force little-endian\n",
    "\n",
    "#     a_decon = np.frombuffer(a.tobytes(order='C'), dtype=dtype).reshape(newshape)\n",
    "#     return np.flip(a_decon, axis=-1)\n",
    "\n",
    "# def bytes_arr_to_ndarr(a: np.ndarray, dtype=np.uint8, shape=None):\n",
    "#     # assert isinstance(dtype.itemsize, int) and dtype.itemsize>=1\n",
    "\n",
    "#     if shape is None:\n",
    "#         newshape = a.shape[0:-1]\n",
    "#     else:\n",
    "#         newshape = shape\n",
    "\n",
    "#     dtype_new = np.dtype(dtype)\n",
    "#     dtype_new = dtype_new.newbyteorder('=')\n",
    "\n",
    "#     return np.frombuffer(np.flip(a, axis=-1).tobytes(order='C'), dtype=dtype_new).reshape(newshape)\n",
    "\n",
    "from model_xray.utils.mal_embedding_utils import mcwa_to_bytes_arr as ndarr_to_bytes_arr\n",
    "from model_xray.utils.mal_embedding_utils import bytes_arr_to_mcwa as bytes_arr_to_ndarr\n",
    "\n",
    "def test_ndarr_to_bytes_arr():\n",
    "    def test_recon(a: np.ndarray):\n",
    "        a_bytes = ndarr_to_bytes_arr(a)\n",
    "        a_recover = bytes_arr_to_ndarr(a_bytes, dtype=a.dtype, shape=a.shape)\n",
    "        assert np.array_equal(a, a_recover)\n",
    "\n",
    "    def test(test_type:Literal['arrange', 'random_intarr', 'random_floatarr'],shape:Tuple[int], dtype=np.uint8, low=None, high=None):\n",
    "        def get_dtype_limits(dtype):\n",
    "            dtype = dtype\n",
    "            \n",
    "            if np.issubdtype(dtype, np.integer):\n",
    "                info = np.iinfo(dtype)\n",
    "                low, high = info.min, info.max\n",
    "            elif np.issubdtype(dtype, np.floating):\n",
    "                low, high = 0,1\n",
    "            else:\n",
    "                raise TypeError(\"Unsupported dtype\")\n",
    "            \n",
    "            return low, high\n",
    "        \n",
    "        if low is None or high is None:\n",
    "            low, high = get_dtype_limits(dtype)\n",
    "\n",
    "        n = np.prod(shape)\n",
    "\n",
    "        if test_type == 'arrange':\n",
    "            a = np.arange(n, dtype=dtype).reshape(shape)\n",
    "        elif test_type == 'random_intarr':\n",
    "            assert np.issubdtype(dtype, np.integer), \"dtype should be integer\"\n",
    "            a = np.random.randint(low, high, size=n, dtype=dtype).reshape(shape)\n",
    "        elif test_type == 'random_floatarr':\n",
    "            assert np.issubdtype(dtype, np.floating), \"dtype should be floating\"\n",
    "            a = np.random.uniform(low, high, size=n).astype(dtype).reshape(shape)\n",
    "\n",
    "        test_recon(a)\n",
    "    from tqdm.contrib.itertools import product\n",
    "    for m, ndim, dtype in product(range(1, 5), range(1, 10), [np.uint8, np.int8, np.int16, np.int32, np.int64, np.float32, np.float64]):\n",
    "        shape = (m,)*ndim\n",
    "        test('arrange', shape, dtype)\n",
    "        if np.issubdtype(dtype, np.integer):\n",
    "            test('random_intarr', shape, dtype)\n",
    "        if np.issubdtype(dtype, np.floating):\n",
    "            test('random_floatarr', shape, dtype)\n",
    "\n",
    "    a = np.array([1.9991, -1.9991, 1.999, -1.999], dtype=np.float16)\n",
    "    test_recon(a)\n",
    "        \n",
    "\n",
    "test_ndarr_to_bytes_arr()"
   ]
  },
  {
   "cell_type": "code",
   "execution_count": 2,
   "metadata": {},
   "outputs": [
    {
     "name": "stdout",
     "output_type": "stream",
     "text": [
      "(3, 2) uint8 [[ 47 223]\n",
      " [ 56   0]\n",
      " [ 58  41]]\n",
      "(3,) [0.123 0.5   0.77 ]\n"
     ]
    }
   ],
   "source": [
    "dtype = np.float16\n",
    "a = ndarr_to_bytes_arr(np.array([0.123, 0.5, 0.77], dtype=dtype))\n",
    "print(a.shape, a.dtype, a)\n",
    "\n",
    "a_recon = bytes_arr_to_ndarr(a, dtype=dtype)\n",
    "print(a_recon.shape, a_recon)"
   ]
  },
  {
   "cell_type": "code",
   "execution_count": 3,
   "metadata": {},
   "outputs": [
    {
     "name": "stdout",
     "output_type": "stream",
     "text": [
      "(3, 5, 2) float16\n",
      "0.9937\n",
      "(3, 5, 2, 2) uint8\n",
      "[ 59 243]\n",
      "(3, 5, 2) float16\n",
      "0.9937\n"
     ]
    }
   ],
   "source": [
    "dtype = np.float16\n",
    "\n",
    "a = np.random.uniform(low=0, high=1, size=30).astype(dtype).reshape((3,5,2))\n",
    "print(a.shape, a.dtype)\n",
    "print(a[0,0,0])\n",
    "\n",
    "a_decon = ndarr_to_bytes_arr(a)\n",
    "print(a_decon.shape, a_decon.dtype)\n",
    "print(a_decon[0,0,0])\n",
    "\n",
    "a_recon = bytes_arr_to_ndarr(a_decon, dtype=a.dtype)\n",
    "print(a_recon.shape, a_recon.dtype)\n",
    "print(a_recon[0,0,0])"
   ]
  },
  {
   "cell_type": "code",
   "execution_count": 3,
   "metadata": {},
   "outputs": [
    {
     "name": "stdout",
     "output_type": "stream",
     "text": [
      "(3, 2) uint8 \n",
      " [[ 47 223]\n",
      " [ 56   0]\n",
      " [ 58  41]]\n"
     ]
    },
    {
     "data": {
      "text/plain": [
       "'\\n    0.123 = 00101111\\t11011111 = 0x2FDF = 47 223\\n\\n'"
      ]
     },
     "execution_count": 3,
     "metadata": {},
     "output_type": "execute_result"
    }
   ],
   "source": [
    "dtype = np.float16\n",
    "a = ndarr_to_bytes_arr(np.array([0.123, 0.5, 0.77], dtype=dtype))\n",
    "print(a.shape, a.dtype, \"\\n\", a)\n",
    "\n",
    "# assert np.array_equal(a, np.array([0x3c, 0x00, 0x00, 0x3f, 0x00, 0x00, 0x3f, 0x3f], dtype=np.uint8))\n",
    "\"\"\"\n",
    "    0.123 = 00101111\t11011111 = 0x2FDF = 47 223\n",
    "\n",
    "\"\"\"\n",
    "\n",
    "# a_recon = bytes_arr_to_ndarr(a, dtype=dtype)\n",
    "# print(a_recon.shape, a_recon)"
   ]
  },
  {
   "cell_type": "code",
   "execution_count": 2,
   "metadata": {},
   "outputs": [],
   "source": [
    "from typing import Literal\n",
    "import numpy as np\n",
    "\n",
    "def ret_binstr_arr(a: np.ndarray):\n",
    "    return [np.binary_repr(x, 8) for x in a]\n",
    "\n",
    "def zero_x_lsbs(a: np.ndarray, X: int=2):\n",
    "    assert a.ndim >= 2\n",
    "    assert 0 <= X <= 8*a.shape[-1]\n",
    "    assert a.dtype==np.uint8\n",
    "\n",
    "    q = X // 8\n",
    "    r = X % 8\n",
    "\n",
    "    full_zero_masks = [int(f'0b{\"0\"*8}', 2) for _ in range(q)]\n",
    "    remainder_zero_mask = int(f'0b{\"1\"*(8-r)}{\"0\"*r}', 2)\n",
    "    identity_masks = [int(f'0b{\"1\"*8}', 2) for _ in range(a.shape[-1] - (q+1))]\n",
    "\n",
    "    final_masks = tuple(reversed(full_zero_masks + [remainder_zero_mask] + identity_masks))\n",
    "    # print(ret_binstr_arr(final_masks))\n",
    "    final_masks = np.array(final_masks, dtype=np.uint8)\n",
    "    return np.bitwise_and(a, final_masks)\n",
    "\n",
    "def check_str(s: str, rule: Literal['zeros', 'ones', 'bitstr']):\n",
    "    allowed = None\n",
    "    if rule == 'zeros':\n",
    "        allowed = set(('0',))\n",
    "    elif rule == 'ones':\n",
    "        allowed = set(('1',))\n",
    "    elif rule == 'bitstr':\n",
    "        allowed = set(('0','1'))\n",
    "    else:\n",
    "        raise Exception()\n",
    "\n",
    "    return isinstance(s, str) and all([c in allowed for c in s])\n",
    "\n",
    "def test_check_str():\n",
    "    def ret_checks(s):\n",
    "        is_bitstr = check_str(s, 'bitstr')\n",
    "        is_zeros = check_str(s, 'zeros')\n",
    "        is_ones = check_str(s, 'ones')\n",
    "\n",
    "        return (is_bitstr, is_zeros, is_ones)\n",
    "    def check(s, vals):\n",
    "        checks = ret_checks(s)\n",
    "\n",
    "        assert vals == checks, f'check failed: s: {s}, true: {vals}, got: {checks}'\n",
    "\n",
    "    for i in range(1,10):\n",
    "        s = \"0\"*i\n",
    "        \n",
    "        check(s, (True, True, False))\n",
    "\n",
    "        s = \"1\"*i\n",
    "        check(s, (True, False, True))\n",
    "\n",
    "        s = \"01\"*i\n",
    "        check(s, (True, False, False))\n",
    "\n",
    "        s = \"0\"*i + \"2\" + \"a\"\n",
    "        check(s, (False, False, False))\n",
    "\n",
    "from time import time\n",
    "\n",
    "def test_zero_x_lsbs(test_speed=False):\n",
    "    n=int(1e8)\n",
    "    a = np.random.randint(0, 255, size=(n,), dtype=np.uint8)\n",
    "    a_bin = ret_binstr_arr(a)\n",
    "\n",
    "    if test_speed:\n",
    "        start = time()\n",
    "\n",
    "    for X in range(0, 8):\n",
    "        a_zeroed = zero_x_lsbs(a, X)\n",
    "        if test_speed:\n",
    "            continue\n",
    "\n",
    "        a_zeroed_bin = ret_binstr_arr(a_zeroed)\n",
    "\n",
    "        assert a_zeroed.shape == a.shape\n",
    "\n",
    "        is_msb_eq = [x[0:-X] == y[0:-X] for x, y in zip(a_bin, a_zeroed_bin)]\n",
    "        is_lsb_zeroed = [check_str(y[-X:], rule='zeros') for y in a_zeroed_bin]\n",
    "\n",
    "        assert all(is_msb_eq), print(a_bin, a_zeroed_bin, is_lsb_zeroed)\n",
    "\n",
    "        if X == 0:\n",
    "            continue\n",
    "\n",
    "        assert all(is_lsb_zeroed), print(X, a_bin, a_zeroed_bin, is_lsb_zeroed, [y[-X:] for y in a_zeroed_bin], sep='\\n')\n",
    "\n",
    "    if test_speed:\n",
    "        print(f\"Time: {time()-start}\")\n",
    "\n",
    "# test_check_str()\n",
    "# test_zero_x_lsbs(test_speed=True)\n",
    "\n",
    "# host = np.arange(10, dtype=np.uint8)\n",
    "# emplace(host, X=1)"
   ]
  },
  {
   "cell_type": "code",
   "execution_count": 21,
   "metadata": {},
   "outputs": [
    {
     "name": "stdout",
     "output_type": "stream",
     "text": [
      "(3, 5, 2) float16\n",
      "0.466\n",
      "(3, 5, 2, 2) uint8\n",
      "[ 55 117]\n",
      "(3, 5, 2) float16\n",
      "0.466\n",
      "['11111111', '11111000']\n",
      "[ 55 112]\n"
     ]
    }
   ],
   "source": [
    "dtype = np.float16\n",
    "\n",
    "a = np.random.uniform(low=0, high=1, size=30).astype(dtype).reshape((3,5,2))\n",
    "print(a.shape, a.dtype)\n",
    "print(a[0,0,0])\n",
    "\n",
    "a_decon = ndarr_to_bytes_arr(a)\n",
    "print(a_decon.shape, a_decon.dtype)\n",
    "print(a_decon[0,0,0])\n",
    "\n",
    "a_recon = bytes_arr_to_ndarr(a_decon, dtype=a.dtype)\n",
    "print(a_recon.shape, a_recon.dtype)\n",
    "print(a_recon[0,0,0])\n",
    "\n",
    "b = zero_x_lsbs(a_decon, 3)\n",
    "print(b[0,0,0])"
   ]
  },
  {
   "cell_type": "code",
   "execution_count": 9,
   "metadata": {},
   "outputs": [],
   "source": [
    "import numpy as np\n",
    "import bitstring\n",
    "import time\n",
    "\n",
    "def get_file_bytes(filepath: str):\n",
    "    with open(filepath, 'rb') as f:\n",
    "        data = f.read()\n",
    "\n",
    "    return data\n",
    "\n",
    "def get_malware_bytes(filepath: str, X: int=2, fill=True, n_w:int=100):\n",
    "    start = time.time()\n",
    "    data = get_file_bytes(filepath)\n",
    "    print(f\"Time to read file: {time.time()-start}\")\n",
    "\n",
    "    start = time.time()\n",
    "    bs = bitstring.Bits(data)\n",
    "    print(f\"Time to construct bitstring obj: {time.time()-start}\")\n",
    "\n",
    "    if fill:\n",
    "        n = n_w*X\n",
    "        bs*=(n//len(bs))+1\n",
    "\n",
    "        bs = bs[0:n]\n",
    "\n",
    "    start = time.time()\n",
    "    chunks = tuple(tuple(byte_chunks.uint for byte_chunks in x_bits.cut(8)) for x_bits in bs.cut(X, count=len(bs.bin)//X))\n",
    "    print(f\"Time to cut bitstring: {time.time()-start}\")\n",
    "\n",
    "    if len(bs)%X!=0:\n",
    "        chunk_last_byte = bs[(len(bs)//X)*X:].uint\n",
    "        chunk_last = (chunk_last_byte,) + tuple(0 for _ in range(X//8))\n",
    "        chunks.append(chunk_last)\n",
    "\n",
    "    chunks = np.flip(np.array(chunks, dtype=np.uint8), axis=-1)\n",
    "\n",
    "    return chunks"
   ]
  },
  {
   "cell_type": "code",
   "execution_count": 42,
   "metadata": {},
   "outputs": [
    {
     "data": {
      "text/plain": [
       "array([[  7, 117,  37],\n",
       "       [ 14,  70, 148],\n",
       "       [  4, 121, 119],\n",
       "       [  4,   5, 183],\n",
       "       [  4, 106,  87],\n",
       "       [  3, 165, 100],\n",
       "       [  6,  81, 117],\n",
       "       [ 10, 119, 100],\n",
       "       [  4,  78,  82],\n",
       "       [  3, 165,  39]], dtype=uint8)"
      ]
     },
     "execution_count": 42,
     "metadata": {},
     "output_type": "execute_result"
    }
   ],
   "source": [
    "chunks = get_malware_bytes('malware/050ef', X=20, fill=True, n_w=10)\n",
    "chunks"
   ]
  },
  {
   "cell_type": "code",
   "execution_count": 4,
   "metadata": {},
   "outputs": [],
   "source": [
    "def emplace(host: np.ndarray, X: int, malware_filepath:str=None, malware_chunks:np.ndarray=None):\n",
    "    assert len(host.shape)==2 # n_models, n_weights\n",
    "\n",
    "    host_bytes = ndarr_to_bytes_arr(host)\n",
    "    n_models, n_weights, n_bytes = host_bytes.shape\n",
    "    assert 1 <= X <= n_bytes*8\n",
    "\n",
    "    if malware_chunks is None:\n",
    "        assert malware_filepath is not None\n",
    "        chunks = get_malware_bytes(malware_filepath, X=X, fill=True, n_w=n_weights)\n",
    "    else:\n",
    "        chunks = malware_chunks\n",
    "    _, chunks_n_bytes = chunks.shape\n",
    "    assert chunks.dtype == np.uint8\n",
    "\n",
    "    zeros = np.broadcast_to(np.zeros((1,), dtype=np.uint8), (n_weights, n_bytes-chunks_n_bytes))\n",
    "    assert zeros.dtype == np.uint8\n",
    "\n",
    "    bytes_mask = np.hstack((zeros,chunks))\n",
    "    bytes_mask_len, bytes_mask_n_bytes = bytes_mask.shape\n",
    "    assert bytes_mask_len == n_weights and bytes_mask_n_bytes == n_bytes\n",
    "\n",
    "    host_X_LSBs_zeroed = zero_x_lsbs(host_bytes, X)\n",
    "    assert host_X_LSBs_zeroed.shape == host_bytes.shape\n",
    "    assert host_X_LSBs_zeroed.dtype == np.uint8, host_X_LSBs_zeroed.dtype\n",
    "\n",
    "    host_emplaced = np.bitwise_or(host_X_LSBs_zeroed, bytes_mask)\n",
    "    host_emplaced_recon = bytes_arr_to_ndarr(host_emplaced, dtype=host.dtype)\n",
    "    # print(host_emplaced_recon)\n",
    "    # \n",
    "\n",
    "    # return host_X_LSBs_zeroed"
   ]
  },
  {
   "cell_type": "code",
   "execution_count": 10,
   "metadata": {},
   "outputs": [
    {
     "name": "stdout",
     "output_type": "stream",
     "text": [
      "Time to read file: 0.0016598701477050781\n",
      "Time to construct bitstring obj: 0.0050013065338134766\n",
      "Time to cut bitstring: 86.4332628250122\n",
      "Time: 1.9035322666168213\n"
     ]
    }
   ],
   "source": [
    "# hosts = [[0.123, 0.5, 0.77], [0.1, 1.0, 3.2], [0.66, 0.23, 0.99]]\n",
    "X = 1\n",
    "n_models, n_weights = 10, 10_000_000\n",
    "hosts = np.random.uniform(low=0, high=1, size=(n_models,n_weights)).astype(np.float32)\n",
    "\n",
    "malware_chunks = get_malware_bytes('malware/050ef', X=X, fill=True, n_w=n_weights)\n",
    "\n",
    "from time import time\n",
    "\n",
    "start = time()\n",
    "emplace(hosts, X=X, malware_chunks=malware_chunks, malware_filepath=None)\n",
    "print(f\"Time: {time()-start}\")"
   ]
  },
  {
   "cell_type": "code",
   "execution_count": 6,
   "metadata": {},
   "outputs": [
    {
     "data": {
      "text/plain": [
       "(10000000, 1)"
      ]
     },
     "execution_count": 6,
     "metadata": {},
     "output_type": "execute_result"
    }
   ],
   "source": [
    "malware_chunks.shape"
   ]
  },
  {
   "cell_type": "code",
   "execution_count": null,
   "metadata": {},
   "outputs": [],
   "source": []
  }
 ],
 "metadata": {
  "kernelspec": {
   "display_name": "Python 3",
   "language": "python",
   "name": "python3"
  },
  "language_info": {
   "codemirror_mode": {
    "name": "ipython",
    "version": 3
   },
   "file_extension": ".py",
   "mimetype": "text/x-python",
   "name": "python",
   "nbconvert_exporter": "python",
   "pygments_lexer": "ipython3",
   "version": "3.11.9"
  }
 },
 "nbformat": 4,
 "nbformat_minor": 2
}
