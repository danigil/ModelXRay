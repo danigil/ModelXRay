{
 "cells": [
  {
   "cell_type": "code",
   "execution_count": 1,
   "metadata": {},
   "outputs": [
    {
     "name": "stderr",
     "output_type": "stream",
     "text": [
      "/home/danielg/micromamba/envs/oneshot/lib/python3.9/site-packages/tqdm/auto.py:21: TqdmWarning: IProgress not found. Please update jupyter and ipywidgets. See https://ipywidgets.readthedocs.io/en/stable/user_install.html\n",
      "  from .autonotebook import tqdm as notebook_tqdm\n",
      "100%|██████████| 252/252 [00:00<00:00, 8048.65it/s]\n"
     ]
    }
   ],
   "source": [
    "# import itertools\n",
    "from typing import Literal, Tuple\n",
    "import numpy as np\n",
    "\n",
    "# from tqdm import tqdm\n",
    "\n",
    "def ndarr_to_bytes_arr(a: np.ndarray):\n",
    "    assert isinstance(a.dtype.itemsize, int) and a.dtype.itemsize>=1\n",
    "    newshape = a.shape + (a.dtype.itemsize,)\n",
    "    dtype = np.dtype('=u1') # force little-endian\n",
    "\n",
    "    a_decon = np.frombuffer(a.tobytes(order='C'), dtype=dtype).reshape(newshape)\n",
    "    return np.flip(a_decon, axis=-1)\n",
    "\n",
    "def bytes_arr_to_ndarr(a: np.ndarray, dtype=np.uint8, shape=None):\n",
    "    # assert isinstance(dtype.itemsize, int) and dtype.itemsize>=1\n",
    "\n",
    "    if shape is None:\n",
    "        shape = a.shape[0:-1]\n",
    "\n",
    "    dtype_new = np.dtype(dtype)\n",
    "    dtype_new = dtype_new.newbyteorder('=')\n",
    "\n",
    "    return np.frombuffer(np.flip(a, axis=-1).tobytes(order='C'), dtype=dtype_new).reshape(shape)\n",
    "\n",
    "def test_ndarr_to_bytes_arr():\n",
    "    def test_recon(a: np.ndarray):\n",
    "        a_bytes = ndarr_to_bytes_arr(a)\n",
    "        a_recover = bytes_arr_to_ndarr(a_bytes, dtype=a.dtype, shape=a.shape)\n",
    "        assert np.array_equal(a, a_recover)\n",
    "\n",
    "    def test(test_type:Literal['arrange', 'random_intarr', 'random_floatarr'],shape:Tuple[int], dtype=np.uint8, low=None, high=None):\n",
    "        def get_dtype_limits(dtype):\n",
    "            dtype = dtype\n",
    "            \n",
    "            if np.issubdtype(dtype, np.integer):\n",
    "                info = np.iinfo(dtype)\n",
    "                low, high = info.min, info.max\n",
    "            elif np.issubdtype(dtype, np.floating):\n",
    "                low, high = 0,1\n",
    "            else:\n",
    "                raise TypeError(\"Unsupported dtype\")\n",
    "            \n",
    "            return low, high\n",
    "        \n",
    "        if low is None or high is None:\n",
    "            low, high = get_dtype_limits(dtype)\n",
    "\n",
    "        n = np.prod(shape)\n",
    "\n",
    "        if test_type == 'arrange':\n",
    "            a = np.arange(n, dtype=dtype).reshape(shape)\n",
    "        elif test_type == 'random_intarr':\n",
    "            assert np.issubdtype(dtype, np.integer), \"dtype should be integer\"\n",
    "            a = np.random.randint(low, high, size=n, dtype=dtype).reshape(shape)\n",
    "        elif test_type == 'random_floatarr':\n",
    "            assert np.issubdtype(dtype, np.floating), \"dtype should be floating\"\n",
    "            a = np.random.uniform(low, high, size=n).astype(dtype).reshape(shape)\n",
    "\n",
    "        test_recon(a)\n",
    "    from tqdm.contrib.itertools import product\n",
    "    for m, ndim, dtype in product(range(1, 5), range(1, 10), [np.uint8, np.int8, np.int16, np.int32, np.int64, np.float32, np.float64]):\n",
    "        shape = (m,)*ndim\n",
    "        test('arrange', shape, dtype)\n",
    "        if np.issubdtype(dtype, np.integer):\n",
    "            test('random_intarr', shape, dtype)\n",
    "        if np.issubdtype(dtype, np.floating):\n",
    "            test('random_floatarr', shape, dtype)\n",
    "\n",
    "    a = np.array([1.9991, -1.9991, 1.999, -1.999], dtype=np.float16)\n",
    "    test_recon(a)\n",
    "        \n",
    "\n",
    "test_ndarr_to_bytes_arr()"
   ]
  },
  {
   "cell_type": "code",
   "execution_count": 2,
   "metadata": {},
   "outputs": [
    {
     "name": "stdout",
     "output_type": "stream",
     "text": [
      "(3, 2) uint8 [[ 47 223]\n",
      " [ 56   0]\n",
      " [ 58  41]]\n",
      "(3,) [0.123 0.5   0.77 ]\n"
     ]
    }
   ],
   "source": [
    "dtype = np.float16\n",
    "a = ndarr_to_bytes_arr(np.array([0.123, 0.5, 0.77], dtype=dtype))\n",
    "print(a.shape, a.dtype, a)\n",
    "\n",
    "a_recon = bytes_arr_to_ndarr(a, dtype=dtype)\n",
    "print(a_recon.shape, a_recon)"
   ]
  },
  {
   "cell_type": "code",
   "execution_count": 3,
   "metadata": {},
   "outputs": [
    {
     "name": "stdout",
     "output_type": "stream",
     "text": [
      "(3, 5, 2) float16\n",
      "0.4731\n",
      "(3, 5, 2, 2) uint8\n",
      "[ 55 146]\n",
      "(3, 5, 2) float16\n",
      "0.4731\n"
     ]
    }
   ],
   "source": [
    "dtype = np.float16\n",
    "\n",
    "a = np.random.uniform(low=0, high=1, size=30).astype(dtype).reshape((3,5,2))\n",
    "print(a.shape, a.dtype)\n",
    "print(a[0,0,0])\n",
    "\n",
    "a_decon = ndarr_to_bytes_arr(a)\n",
    "print(a_decon.shape, a_decon.dtype)\n",
    "print(a_decon[0,0,0])\n",
    "\n",
    "a_recon = bytes_arr_to_ndarr(a_decon, dtype=a.dtype)\n",
    "print(a_recon.shape, a_recon.dtype)\n",
    "print(a_recon[0,0,0])"
   ]
  },
  {
   "cell_type": "code",
   "execution_count": 1,
   "metadata": {},
   "outputs": [],
   "source": [
    "from typing import Literal\n",
    "import numpy as np\n",
    "\n",
    "def ret_binstr_arr(a: np.ndarray):\n",
    "    return [np.binary_repr(x, 8) for x in a]\n",
    "\n",
    "def zero_x_lsbs(a: np.ndarray, X: int=2):\n",
    "    assert a.ndim >= 2\n",
    "    assert 0 <= X <= 8*a.shape[-1]\n",
    "    assert a.dtype==np.uint8\n",
    "\n",
    "    q = X // 8\n",
    "    r = X % 8\n",
    "\n",
    "    full_zero_masks = [int(f'0b{\"0\"*8}', 2) for _ in range(q)]\n",
    "    remainder_zero_mask = int(f'0b{\"1\"*(8-r)}{\"0\"*r}', 2)\n",
    "    identity_masks = [int(f'0b{\"1\"*8}', 2) for _ in range(a.shape[-1] - (q+1))]\n",
    "\n",
    "    final_masks = tuple(reversed(full_zero_masks + [remainder_zero_mask] + identity_masks))\n",
    "    print(ret_binstr_arr(final_masks))\n",
    "    return np.bitwise_and(a, final_masks)\n",
    "\n",
    "def check_str(s: str, rule: Literal['zeros', 'ones', 'bitstr']):\n",
    "    allowed = None\n",
    "    if rule == 'zeros':\n",
    "        allowed = set(('0',))\n",
    "    elif rule == 'ones':\n",
    "        allowed = set(('1',))\n",
    "    elif rule == 'bitstr':\n",
    "        allowed = set(('0','1'))\n",
    "    else:\n",
    "        raise Exception()\n",
    "\n",
    "    return isinstance(s, str) and all([c in allowed for c in s])\n",
    "\n",
    "def test_check_str():\n",
    "    def ret_checks(s):\n",
    "        is_bitstr = check_str(s, 'bitstr')\n",
    "        is_zeros = check_str(s, 'zeros')\n",
    "        is_ones = check_str(s, 'ones')\n",
    "\n",
    "        return (is_bitstr, is_zeros, is_ones)\n",
    "    def check(s, vals):\n",
    "        checks = ret_checks(s)\n",
    "\n",
    "        assert vals == checks, f'check failed: s: {s}, true: {vals}, got: {checks}'\n",
    "\n",
    "    for i in range(1,10):\n",
    "        s = \"0\"*i\n",
    "        \n",
    "        check(s, (True, True, False))\n",
    "\n",
    "        s = \"1\"*i\n",
    "        check(s, (True, False, True))\n",
    "\n",
    "        s = \"01\"*i\n",
    "        check(s, (True, False, False))\n",
    "\n",
    "        s = \"0\"*i + \"2\" + \"a\"\n",
    "        check(s, (False, False, False))\n",
    "\n",
    "from time import time\n",
    "\n",
    "def test_zero_x_lsbs(test_speed=False):\n",
    "    n=int(1e8)\n",
    "    a = np.random.randint(0, 255, size=(n,), dtype=np.uint8)\n",
    "    a_bin = ret_binstr_arr(a)\n",
    "\n",
    "    if test_speed:\n",
    "        start = time()\n",
    "\n",
    "    for X in range(0, 8):\n",
    "        a_zeroed = zero_x_lsbs(a, X)\n",
    "        if test_speed:\n",
    "            continue\n",
    "\n",
    "        a_zeroed_bin = ret_binstr_arr(a_zeroed)\n",
    "\n",
    "        assert a_zeroed.shape == a.shape\n",
    "\n",
    "        is_msb_eq = [x[0:-X] == y[0:-X] for x, y in zip(a_bin, a_zeroed_bin)]\n",
    "        is_lsb_zeroed = [check_str(y[-X:], rule='zeros') for y in a_zeroed_bin]\n",
    "\n",
    "        assert all(is_msb_eq), print(a_bin, a_zeroed_bin, is_lsb_zeroed)\n",
    "\n",
    "        if X == 0:\n",
    "            continue\n",
    "\n",
    "        assert all(is_lsb_zeroed), print(X, a_bin, a_zeroed_bin, is_lsb_zeroed, [y[-X:] for y in a_zeroed_bin], sep='\\n')\n",
    "\n",
    "    if test_speed:\n",
    "        print(f\"Time: {time()-start}\")\n",
    "\n",
    "# test_check_str()\n",
    "# test_zero_x_lsbs(test_speed=True)\n",
    "\n",
    "def emplace(host: np.ndarray, s_bits=None, X: int=2):\n",
    "    assert 0 <= X <= 8\n",
    "    assert len(host.shape)==1\n",
    "\n",
    "    host_bytes = ndarr_to_bytes_arr(host)\n",
    "    host_X_LSBs_zeroed = zero_x_lsbs(host_bytes, X)\n",
    "\n",
    "    return host_X_LSBs_zeroed\n",
    "\n",
    "# host = np.arange(10, dtype=np.uint8)\n",
    "# emplace(host, X=1)"
   ]
  },
  {
   "cell_type": "code",
   "execution_count": 21,
   "metadata": {},
   "outputs": [
    {
     "name": "stdout",
     "output_type": "stream",
     "text": [
      "(3, 5, 2) float16\n",
      "0.466\n",
      "(3, 5, 2, 2) uint8\n",
      "[ 55 117]\n",
      "(3, 5, 2) float16\n",
      "0.466\n",
      "['11111111', '11111000']\n",
      "[ 55 112]\n"
     ]
    }
   ],
   "source": [
    "dtype = np.float16\n",
    "\n",
    "a = np.random.uniform(low=0, high=1, size=30).astype(dtype).reshape((3,5,2))\n",
    "print(a.shape, a.dtype)\n",
    "print(a[0,0,0])\n",
    "\n",
    "a_decon = ndarr_to_bytes_arr(a)\n",
    "print(a_decon.shape, a_decon.dtype)\n",
    "print(a_decon[0,0,0])\n",
    "\n",
    "a_recon = bytes_arr_to_ndarr(a_decon, dtype=a.dtype)\n",
    "print(a_recon.shape, a_recon.dtype)\n",
    "print(a_recon[0,0,0])\n",
    "\n",
    "b = zero_x_lsbs(a_decon, 3)\n",
    "print(b[0,0,0])"
   ]
  },
  {
   "cell_type": "code",
   "execution_count": 41,
   "metadata": {},
   "outputs": [],
   "source": [
    "import numpy as np\n",
    "import bitstring\n",
    "\n",
    "def get_file_bytes(filepath: str):\n",
    "    with open(filepath, 'rb') as f:\n",
    "        data = f.read()\n",
    "\n",
    "    return data\n",
    "\n",
    "def get_malware_bytes(filepath: str, X: int=2, fill=True, n_w:int=100):\n",
    "    data = get_file_bytes(filepath)\n",
    "\n",
    "    bs = bitstring.Bits(data)\n",
    "\n",
    "    if fill:\n",
    "        n = n_w*X\n",
    "        bs*=(n//len(bs))+1\n",
    "\n",
    "        bs = bs[0:n]\n",
    "\n",
    "    chunks = list(tuple(byte_chunks.uint for byte_chunks in x_bits.cut(8)) for x_bits in bs.cut(X, count=len(bs.bin)//X))\n",
    "\n",
    "    if len(bs)%X!=0:\n",
    "        chunk_last_byte = bs[(len(bs)//X)*X:].uint\n",
    "        chunk_last = (chunk_last_byte,) + tuple(0 for _ in range(X//8))\n",
    "        chunks.append(chunk_last)\n",
    "\n",
    "    chunks = np.flip(np.array(chunks, dtype=np.uint8), axis=-1)\n",
    "\n",
    "    return chunks"
   ]
  },
  {
   "cell_type": "code",
   "execution_count": 42,
   "metadata": {},
   "outputs": [
    {
     "data": {
      "text/plain": [
       "array([[  7, 117,  37],\n",
       "       [ 14,  70, 148],\n",
       "       [  4, 121, 119],\n",
       "       [  4,   5, 183],\n",
       "       [  4, 106,  87],\n",
       "       [  3, 165, 100],\n",
       "       [  6,  81, 117],\n",
       "       [ 10, 119, 100],\n",
       "       [  4,  78,  82],\n",
       "       [  3, 165,  39]], dtype=uint8)"
      ]
     },
     "execution_count": 42,
     "metadata": {},
     "output_type": "execute_result"
    }
   ],
   "source": [
    "chunks = get_malware_bytes('malware/050ef', X=20, fill=True, n_w=10)\n",
    "chunks"
   ]
  },
  {
   "cell_type": "code",
   "execution_count": 37,
   "metadata": {},
   "outputs": [
    {
     "name": "stdout",
     "output_type": "stream",
     "text": [
      "0010010101110101\n",
      "16\n",
      "16\n",
      "chunk 0\n",
      "byte 0: 37 byte 1: 0 \n",
      "chunk 1\n",
      "byte 0: 117 \n",
      "chunk_last: (117, 0)\n"
     ]
    },
    {
     "data": {
      "text/plain": [
       "array([[  0,  37],\n",
       "       [  0, 117]], dtype=uint8)"
      ]
     },
     "execution_count": 37,
     "metadata": {},
     "output_type": "execute_result"
    }
   ],
   "source": [
    "import numpy as np\n",
    "\n",
    "data = get_file_bytes('malware/050ef')\n",
    "# a = np.frombuffer(data, dtype=np.uint8)\n",
    "\n",
    "import bitstring\n",
    "bs = bitstring.Bits(data)[0:16]\n",
    "print(bs.bin)\n",
    "print(len(bs))\n",
    "print(len(bs.bin))\n",
    "\n",
    "n_b = 16\n",
    "# ones_mask = int(f'0b{\"1\"*8}', 2)\n",
    "\n",
    "\n",
    "X=9\n",
    "# chunks = []\n",
    "for i, x_bits in enumerate(bs.cut(X)):\n",
    "    print(f'chunk {i}')\n",
    "    # curr_chunk = []\n",
    "    for j, byte_chunks in enumerate(x_bits.cut(8)):\n",
    "        print(f'byte {j}: {byte_chunks.uint}', end=' ')\n",
    "        # curr_chunk.append(byte_chunks.uint)\n",
    "    # chunks.append(curr_chunk)\n",
    "    print()\n",
    "\n",
    "chunks = list(tuple(byte_chunks.uint for byte_chunks in x_bits.cut(8)) for x_bits in bs.cut(X, count=len(bs.bin)//X))\n",
    "chunk_last_byte = bs[(len(bs)//X)*X:].uint\n",
    "chunk_last = (chunk_last_byte,) + tuple(0 for _ in range(X//8))\n",
    "print('chunk_last:', chunk_last)\n",
    "\n",
    "chunks.append(chunk_last)\n",
    "\n",
    "chunks = np.flip(np.array(chunks, dtype=np.uint8), axis=-1)\n",
    "chunks"
   ]
  },
  {
   "cell_type": "code",
   "execution_count": 3,
   "metadata": {},
   "outputs": [
    {
     "data": {
      "text/plain": [
       "15291390"
      ]
     },
     "execution_count": 3,
     "metadata": {},
     "output_type": "execute_result"
    }
   ],
   "source": [
    "len(a)"
   ]
  },
  {
   "cell_type": "code",
   "execution_count": 9,
   "metadata": {},
   "outputs": [
    {
     "data": {
      "text/plain": [
       "2"
      ]
     },
     "execution_count": 9,
     "metadata": {},
     "output_type": "execute_result"
    }
   ],
   "source": [
    "import numpy as np\n",
    "\n",
    "a = np.array([1,2,3,4,5,6,7,8,9,10], dtype=np.float16)\n",
    "a.dtype.itemsize"
   ]
  },
  {
   "cell_type": "code",
   "execution_count": null,
   "metadata": {},
   "outputs": [],
   "source": []
  }
 ],
 "metadata": {
  "kernelspec": {
   "display_name": "Python 3",
   "language": "python",
   "name": "python3"
  },
  "language_info": {
   "codemirror_mode": {
    "name": "ipython",
    "version": 3
   },
   "file_extension": ".py",
   "mimetype": "text/x-python",
   "name": "python",
   "nbconvert_exporter": "python",
   "pygments_lexer": "ipython3",
   "version": "3.9.18"
  }
 },
 "nbformat": 4,
 "nbformat_minor": 2
}
